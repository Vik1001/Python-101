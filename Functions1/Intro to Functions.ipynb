{
 "cells": [
  {
   "cell_type": "code",
   "execution_count": 1,
   "id": "a962e034",
   "metadata": {},
   "outputs": [
    {
     "name": "stdout",
     "output_type": "stream",
     "text": [
      "<built-in method upper of str object at 0x000001D547CC5F70>\n"
     ]
    },
    {
     "data": {
      "text/plain": [
       "builtin_function_or_method"
      ]
     },
     "execution_count": 1,
     "metadata": {},
     "output_type": "execute_result"
    }
   ],
   "source": [
    "#why do we need functions? We need functions because of the concept *D.R.Y* don't repeat yourself. Put that code in one place\n",
    "# and call that piece of code whenever we want to\n",
    "# functions are objects that can also be invoked or called\n",
    "# () the brackets tell to perform the function in the left of it. It won't be performed if brackets weren't placed\n",
    "s='abcd'\n",
    "x=s.upper\n",
    "print(x) # x is now the same as s.upper that is both of them point to s.upper()'s value ABCD\n",
    "type(x)"
   ]
  },
  {
   "cell_type": "code",
   "execution_count": 2,
   "id": "6247b282",
   "metadata": {},
   "outputs": [
    {
     "data": {
      "text/plain": [
       "'ABCD'"
      ]
     },
     "execution_count": 2,
     "metadata": {},
     "output_type": "execute_result"
    }
   ],
   "source": [
    "x()"
   ]
  },
  {
   "cell_type": "code",
   "execution_count": 3,
   "id": "b29a4ff7",
   "metadata": {},
   "outputs": [
    {
     "data": {
      "text/plain": [
       "'ABCD'"
      ]
     },
     "execution_count": 3,
     "metadata": {},
     "output_type": "execute_result"
    }
   ],
   "source": [
    "s.upper()"
   ]
  },
  {
   "cell_type": "code",
   "execution_count": 5,
   "id": "69c98e13",
   "metadata": {},
   "outputs": [
    {
     "name": "stdout",
     "output_type": "stream",
     "text": [
      "a : 1\n",
      "b : 2\n",
      "c : 3\n"
     ]
    }
   ],
   "source": [
    "d={'a':1,'b':2,'c':3}\n",
    "for keys,values in d.items(): # () applying brackets invokes d.items and hence the loop can iterate through the set of tuples\n",
    "    print(f'{keys} : {values}')"
   ]
  },
  {
   "cell_type": "code",
   "execution_count": null,
   "id": "815913ff",
   "metadata": {},
   "outputs": [],
   "source": [
    "d={'a':1,'b':2,'c':3}\n",
    "for keys,values in d.items: # () not applying brackets doesn't call the function d.items instead it returns a buil in function\n",
    "    print(f'{keys} : {values}') #type"
   ]
  },
  {
   "attachments": {
    "image.png": {
     "image/png": "[encoded data removed]"
    }
   },
   "cell_type": "markdown",
   "id": "3be1d12c",
   "metadata": {},
   "source": [
    "![image.png](attachment:image.png)"
   ]
  },
  {
   "cell_type": "code",
   "execution_count": 7,
   "id": "97aba625",
   "metadata": {},
   "outputs": [
    {
     "name": "stdout",
     "output_type": "stream",
     "text": [
      "Help on built-in function upper:\n",
      "\n",
      "upper() method of builtins.str instance\n",
      "    Return a copy of the string converted to uppercase.\n",
      "\n"
     ]
    }
   ],
   "source": [
    "help(s.upper)# it calls help on the function upper"
   ]
  },
  {
   "cell_type": "code",
   "execution_count": 8,
   "id": "a9733f22",
   "metadata": {},
   "outputs": [
    {
     "name": "stdout",
     "output_type": "stream",
     "text": [
      "No Python documentation found for 'ABCD'.\n",
      "Use help() to get the interactive help utility.\n",
      "Use help(str) for help on the str class.\n",
      "\n"
     ]
    }
   ],
   "source": [
    "help(s.upper()) # it calls help on the output 'ABCD'"
   ]
  },
  {
   "cell_type": "code",
   "execution_count": 9,
   "id": "1a1fc1d3",
   "metadata": {},
   "outputs": [],
   "source": [
    "def hello():    # in many languages the variable name and function name can be same and give different outputs respectively\n",
    "    print('hello')  # in contrast in python, both of them share one namespacce and hence produce the ouput based on what was \n",
    "                  # assigned to it last"
   ]
  },
  {
   "cell_type": "code",
   "execution_count": 10,
   "id": "a7683519",
   "metadata": {},
   "outputs": [
    {
     "name": "stdout",
     "output_type": "stream",
     "text": [
      "hello\n"
     ]
    }
   ],
   "source": [
    "hello()"
   ]
  },
  {
   "cell_type": "code",
   "execution_count": 13,
   "id": "f88d4fe4",
   "metadata": {},
   "outputs": [
    {
     "data": {
      "text/plain": [
       "7"
      ]
     },
     "execution_count": 13,
     "metadata": {},
     "output_type": "execute_result"
    }
   ],
   "source": [
    "hello=7\n",
    "hello"
   ]
  },
  {
   "cell_type": "code",
   "execution_count": 12,
   "id": "1c8b2049",
   "metadata": {},
   "outputs": [
    {
     "ename": "TypeError",
     "evalue": "'int' object is not callable",
     "output_type": "error",
     "traceback": [
      "\u001b[1;31m---------------------------------------------------------------------------\u001b[0m",
      "\u001b[1;31mTypeError\u001b[0m                                 Traceback (most recent call last)",
      "Cell \u001b[1;32mIn[12], line 1\u001b[0m\n\u001b[1;32m----> 1\u001b[0m \u001b[43mhello\u001b[49m\u001b[43m(\u001b[49m\u001b[43m)\u001b[49m\n",
      "\u001b[1;31mTypeError\u001b[0m: 'int' object is not callable"
     ]
    }
   ],
   "source": [
    "hello()"
   ]
  },
  {
   "cell_type": "code",
   "execution_count": null,
   "id": "86a6ac1c",
   "metadata": {},
   "outputs": [],
   "source": [
    "# functions contain only letters, numbers and underscores. \n",
    "# Traditionally it starts with letters and underscores.\n",
    "# it usually only contains small letters"
   ]
  },
  {
   "cell_type": "code",
   "execution_count": 15,
   "id": "7da5371b",
   "metadata": {},
   "outputs": [
    {
     "name": "stdout",
     "output_type": "stream",
     "text": [
      "hello\n",
      "hello\n",
      "HELLO!!\n"
     ]
    }
   ],
   "source": [
    "#we can have only one version of a function at a time \n",
    "def hello():\n",
    "    print('hello')\n",
    "hello()\n",
    "def hello():\n",
    "    print('hello')\n",
    "    print('HELLO!!')\n",
    "hello()"
   ]
  },
  {
   "cell_type": "code",
   "execution_count": 16,
   "id": "7eb555e7",
   "metadata": {},
   "outputs": [
    {
     "name": "stdout",
     "output_type": "stream",
     "text": [
      "4\n"
     ]
    }
   ],
   "source": [
    "x=len('abcd')\n",
    "print(x)"
   ]
  },
  {
   "cell_type": "code",
   "execution_count": 19,
   "id": "e800a38f",
   "metadata": {},
   "outputs": [
    {
     "name": "stdout",
     "output_type": "stream",
     "text": [
      "abcd\n",
      "None\n",
      "abcd\n",
      "None\n"
     ]
    }
   ],
   "source": [
    "x=print('abcd')\n",
    "print(x)\n",
    "print(print('abcd'))"
   ]
  },
  {
   "cell_type": "code",
   "execution_count": 1,
   "id": "ad6a8250",
   "metadata": {},
   "outputs": [
    {
     "name": "stdout",
     "output_type": "stream",
     "text": [
      "hello\n",
      "None\n"
     ]
    }
   ],
   "source": [
    "def hello():\n",
    "    print('hello') #doesn't return hello, prints hello. It returns None\n",
    "x=hello()\n",
    "print(x) #equivalent print the return value of x"
   ]
  },
  {
   "cell_type": "markdown",
   "id": "5614be6b",
   "metadata": {},
   "source": [
    "## The difference between return and print. Consider a man buying something from a grocery store. He pays the amount of 60 rs for a bill amount of 50 rs. He gets 10 rs in exchange. This is the return value. The print value is the recording of the transaction in a paper or computer. It doesn't affect the input or the output."
   ]
  },
  {
   "cell_type": "code",
   "execution_count": 2,
   "id": "a2e65b21",
   "metadata": {},
   "outputs": [
    {
     "data": {
      "text/plain": [
       "'Hello'"
      ]
     },
     "execution_count": 2,
     "metadata": {},
     "output_type": "execute_result"
    }
   ],
   "source": [
    "def hello():\n",
    "    return 'Hello'\n",
    "hello()"
   ]
  },
  {
   "attachments": {
    "image.png": {
     "image/png": "[encoded data removed]"
    }
   },
   "cell_type": "markdown",
   "id": "f74c23e8",
   "metadata": {},
   "source": [
    "![image.png](attachment:image.png)     \n",
    "\n",
    "## print value prints without apostrophe and we can clearly see it isn't stored in jupyter's output index dictionary\n"
   ]
  },
  {
   "attachments": {
    "image.png": {
     "image/png": "[encoded data removed]"
    }
   },
   "cell_type": "markdown",
   "id": "3a14ff1a",
   "metadata": {},
   "source": [
    "![image.png](attachment:image.png)\n",
    " \n",
    "## look at the output in return, it returns the output with apostrophe and we can see it is stored in jupyter's output  index dictionary"
   ]
  },
  {
   "cell_type": "code",
   "execution_count": 3,
   "id": "cc4e6aec",
   "metadata": {},
   "outputs": [
    {
     "data": {
      "text/plain": [
       "'Hello'"
      ]
     },
     "execution_count": 3,
     "metadata": {},
     "output_type": "execute_result"
    }
   ],
   "source": [
    "Out[2]     #this shows that if we use return it is stored in jupyter's output dictionary"
   ]
  },
  {
   "cell_type": "code",
   "execution_count": 5,
   "id": "237f69e1",
   "metadata": {},
   "outputs": [
    {
     "name": "stdout",
     "output_type": "stream",
     "text": [
      "hello\n"
     ]
    },
    {
     "data": {
      "text/plain": [
       "10"
      ]
     },
     "execution_count": 5,
     "metadata": {},
     "output_type": "execute_result"
    }
   ],
   "source": [
    "#function can return any type of data without any exception\n",
    "def hello():\n",
    "    print('hello')\n",
    "    return 10\n",
    "hello()     # it prints hello but doesn't stores it, it returns 10 and stores it"
   ]
  },
  {
   "cell_type": "code",
   "execution_count": 7,
   "id": "9294c7fe",
   "metadata": {},
   "outputs": [
    {
     "data": {
      "text/plain": [
       "10"
      ]
     },
     "execution_count": 7,
     "metadata": {},
     "output_type": "execute_result"
    }
   ],
   "source": [
    "Out[5]"
   ]
  },
  {
   "cell_type": "code",
   "execution_count": null,
   "id": "1a3e0eba",
   "metadata": {},
   "outputs": [],
   "source": [
    "# if a function doesn't return a value then it only returns None"
   ]
  }
 ],
 "metadata": {
  "kernelspec": {
   "display_name": "Python 3 (ipykernel)",
   "language": "python",
   "name": "python3"
  },
  "language_info": {
   "codemirror_mode": {
    "name": "ipython",
    "version": 3
   },
   "file_extension": ".py",
   "mimetype": "text/x-python",
   "name": "python",
   "nbconvert_exporter": "python",
   "pygments_lexer": "ipython3",
   "version": "3.8.8"
  }
 },
 "nbformat": 4,
 "nbformat_minor": 5
}

{
 "cells": [
  {
   "cell_type": "code",
   "execution_count": 2,
   "id": "67d785bf",
   "metadata": {},
   "outputs": [
    {
     "name": "stdout",
     "output_type": "stream",
     "text": [
      "enter nameVikraman\n"
     ]
    },
    {
     "data": {
      "text/plain": [
       "'the name is Vikraman'"
      ]
     },
     "execution_count": 2,
     "metadata": {},
     "output_type": "execute_result"
    }
   ],
   "source": [
    "#function can return any value\n",
    "def hello():\n",
    "    name=input('enter name')\n",
    "    return f'the name is {name}'\n",
    "hello()  "
   ]
  },
  {
   "cell_type": "code",
   "execution_count": 3,
   "id": "c976ad0b",
   "metadata": {},
   "outputs": [
    {
     "name": "stdout",
     "output_type": "stream",
     "text": [
      "enter nameVikraman\n"
     ]
    },
    {
     "data": {
      "text/plain": [
       "8"
      ]
     },
     "execution_count": 3,
     "metadata": {},
     "output_type": "execute_result"
    }
   ],
   "source": [
    "def hello():\n",
    "    name=input('enter name')\n",
    "    return len(name)\n",
    "hello()   "
   ]
  },
  {
   "cell_type": "code",
   "execution_count": 3,
   "id": "65be6c2a",
   "metadata": {},
   "outputs": [
    {
     "name": "stdout",
     "output_type": "stream",
     "text": [
      "[10, 20, 30]\n",
      "100\n",
      "100\n",
      "[10, 20, 30]\n",
      "abcd\n",
      "{'a': 1, 'b': 2, 'c': 3}\n",
      "abcd\n",
      "[10, 20, 30]\n",
      "abcd\n",
      "100\n"
     ]
    }
   ],
   "source": [
    "# a function as long as it returns a python object it doesn't care what kind of object it is returning\n",
    "import random\n",
    "def func():\n",
    "    n=random.randint(0,3)\n",
    "    if n==0:\n",
    "        return 100\n",
    "    elif n== 1:\n",
    "        return \"abcd\"\n",
    "    elif n==2:\n",
    "        return [10,20,30]\n",
    "    else:\n",
    "        return {'a':1,'b':2,'c':3}\n",
    "for i in range (10):\n",
    "    print(func())"
   ]
  },
  {
   "cell_type": "code",
   "execution_count": 8,
   "id": "93fdf5ea",
   "metadata": {},
   "outputs": [
    {
     "data": {
      "text/plain": [
       "(10, 'abcd', 30.8)"
      ]
     },
     "execution_count": 8,
     "metadata": {},
     "output_type": "execute_result"
    }
   ],
   "source": [
    "def foo(): \n",
    "    return 10,'abcd',30.8\n",
    "foo()"
   ]
  },
  {
   "cell_type": "code",
   "execution_count": 10,
   "id": "73a6f314",
   "metadata": {},
   "outputs": [
    {
     "name": "stdout",
     "output_type": "stream",
     "text": [
      "10\n",
      "abcd\n",
      "30.8\n"
     ]
    }
   ],
   "source": [
    "x,y,z=foo()\n",
    "print(x,y,z,sep='\\n')"
   ]
  },
  {
   "cell_type": "code",
   "execution_count": 11,
   "id": "1ba81bbb",
   "metadata": {},
   "outputs": [
    {
     "data": {
      "text/plain": [
       "(20, {'status': 10, 'data': 'abcde'})"
      ]
     },
     "execution_count": 11,
     "metadata": {},
     "output_type": "execute_result"
    }
   ],
   "source": [
    "def foo():\n",
    "    return 20,{'status':10,'data':'abcde'}\n",
    "foo()"
   ]
  },
  {
   "cell_type": "code",
   "execution_count": 14,
   "id": "dfcb9636",
   "metadata": {},
   "outputs": [
    {
     "name": "stdout",
     "output_type": "stream",
     "text": [
      "20\n",
      "{'status': 10, 'data': 'abcde'}\n"
     ]
    }
   ],
   "source": [
    "status,details=foo()\n",
    "print(status,details,sep='\\n')"
   ]
  },
  {
   "cell_type": "code",
   "execution_count": 15,
   "id": "b3af071a",
   "metadata": {},
   "outputs": [
    {
     "data": {
      "text/plain": [
       "10"
      ]
     },
     "execution_count": 15,
     "metadata": {},
     "output_type": "execute_result"
    }
   ],
   "source": [
    "details['status']"
   ]
  },
  {
   "cell_type": "code",
   "execution_count": 17,
   "id": "9c889527",
   "metadata": {},
   "outputs": [
    {
     "data": {
      "text/plain": [
       "'abcde'"
      ]
     },
     "execution_count": 17,
     "metadata": {},
     "output_type": "execute_result"
    }
   ],
   "source": [
    "details['data']"
   ]
  },
  {
   "cell_type": "code",
   "execution_count": 2,
   "id": "dc9488bc",
   "metadata": {},
   "outputs": [
    {
     "data": {
      "text/plain": [
       "'hello'"
      ]
     },
     "execution_count": 2,
     "metadata": {},
     "output_type": "execute_result"
    }
   ],
   "source": [
    "# docstring : you create a function and you specify what the function does\n",
    "def hello():\n",
    "    ''' Expects: No arguments\n",
    "        Modifies: Nothing\n",
    "        Returns: a string, \"Hello\"'''\n",
    "    return 'hello'\n",
    "hello()"
   ]
  },
  {
   "cell_type": "code",
   "execution_count": 3,
   "id": "4fa2dc82",
   "metadata": {},
   "outputs": [
    {
     "name": "stdout",
     "output_type": "stream",
     "text": [
      "Help on function hello in module __main__:\n",
      "\n",
      "hello()\n",
      "    Expects: No arguments\n",
      "    Modifies: Nothing\n",
      "    Returns: a string, \"Hello\"\n",
      "\n"
     ]
    }
   ],
   "source": [
    "help(hello)"
   ]
  },
  {
   "cell_type": "code",
   "execution_count": 4,
   "id": "d8a5d349",
   "metadata": {},
   "outputs": [
    {
     "data": {
      "text/plain": [
       "'hello,Vikraman Parthiban'"
      ]
     },
     "execution_count": 4,
     "metadata": {},
     "output_type": "execute_result"
    }
   ],
   "source": [
    "def hello(first,last): #first and last are positional parameters, parameters are defined when the function is defined\n",
    "    return f'hello,{first} {last}'\n",
    "hello('Vikraman','Parthiban') # Vikraman and Parthiban are positional arguments"
   ]
  },
  {
   "cell_type": "code",
   "execution_count": 6,
   "id": "53085531",
   "metadata": {},
   "outputs": [
    {
     "data": {
      "text/plain": [
       "'ab'"
      ]
     },
     "execution_count": 6,
     "metadata": {},
     "output_type": "execute_result"
    }
   ],
   "source": [
    "def first_and_second(anything):\n",
    "    return anything[:2]\n",
    "first_and_second(\"abcdefgh\")"
   ]
  },
  {
   "cell_type": "code",
   "execution_count": 7,
   "id": "8028a43f",
   "metadata": {},
   "outputs": [
    {
     "name": "stdout",
     "output_type": "stream",
     "text": [
      "hello, world\n",
      "Error\n"
     ]
    }
   ],
   "source": [
    "def hello(name):\n",
    "    if type(name)==str:\n",
    "        return f'hello, {name}'\n",
    "    else:\n",
    "        return None\n",
    "x=hello('world')\n",
    "if x:\n",
    "    print(x)\n",
    "else:\n",
    "    print('Error')\n",
    "x=hello(5)\n",
    "if x:\n",
    "    print(x)\n",
    "else:\n",
    "    print('Error')\n"
   ]
  },
  {
   "cell_type": "code",
   "execution_count": 9,
   "id": "1782cf72",
   "metadata": {},
   "outputs": [
    {
     "name": "stdout",
     "output_type": "stream",
     "text": [
      "Error: can only concatenate str (not \"int\") to str\n"
     ]
    },
    {
     "data": {
      "text/plain": [
       "'hello Vikram'"
      ]
     },
     "execution_count": 9,
     "metadata": {},
     "output_type": "execute_result"
    }
   ],
   "source": [
    "#Duck typing is a concept in programming that focuses on the behavior of objects rather than their specific types or classes.\n",
    "#The term \"duck typing\" comes from the saying, \"If it looks like a duck, swims like a duck, and quacks like a duck, then it \n",
    "#probably is a duck.\" In other words, when it comes to duck typing, the emphasis is on whether an object can perform certain\n",
    "#actions or exhibit specific behavior, rather than on its formal type or class\n",
    "\n",
    "def hello(name):\n",
    "    try:\n",
    "        output=\"hello \"+name\n",
    "        return output\n",
    "    except TypeError as e:\n",
    "        print(f'Error: {e}')\n",
    "hello(5)\n",
    "hello('Vikram')"
   ]
  },
  {
   "cell_type": "code",
   "execution_count": 10,
   "id": "471e13b4",
   "metadata": {},
   "outputs": [
    {
     "data": {
      "text/plain": [
       "'hello, Vikraman '"
      ]
     },
     "execution_count": 10,
     "metadata": {},
     "output_type": "execute_result"
    }
   ],
   "source": [
    "def hello(first,last=''):\n",
    "    return f'hello, {first} {last}'\n",
    "hello('Vikraman')"
   ]
  },
  {
   "cell_type": "code",
   "execution_count": 11,
   "id": "f2bf4022",
   "metadata": {},
   "outputs": [
    {
     "data": {
      "text/plain": [
       "2"
      ]
     },
     "execution_count": 11,
     "metadata": {},
     "output_type": "execute_result"
    }
   ],
   "source": [
    "#this is where python stores about the number of parameters required in a function\n",
    "hello.__code__.co_argcount"
   ]
  },
  {
   "cell_type": "code",
   "execution_count": 13,
   "id": "f4b142aa",
   "metadata": {},
   "outputs": [
    {
     "ename": "SyntaxError",
     "evalue": "non-default argument follows default argument (3312302547.py, line 1)",
     "output_type": "error",
     "traceback": [
      "\u001b[1;36m  Cell \u001b[1;32mIn[13], line 1\u001b[1;36m\u001b[0m\n\u001b[1;33m    def hello(first='',last):\u001b[0m\n\u001b[1;37m              ^\u001b[0m\n\u001b[1;31mSyntaxError\u001b[0m\u001b[1;31m:\u001b[0m non-default argument follows default argument\n"
     ]
    }
   ],
   "source": [
    "def hello(first='',last): #non defaul parameter comes first and then default parameter\n",
    "    return f'hello, {first} {last}'\n",
    "hello('Vikraman')"
   ]
  },
  {
   "cell_type": "code",
   "execution_count": 15,
   "id": "e1b56ea8",
   "metadata": {},
   "outputs": [
    {
     "ename": "TypeError",
     "evalue": "hello() takes from 1 to 2 positional arguments but 3 were given",
     "output_type": "error",
     "traceback": [
      "\u001b[1;31m---------------------------------------------------------------------------\u001b[0m",
      "\u001b[1;31mTypeError\u001b[0m                                 Traceback (most recent call last)",
      "Cell \u001b[1;32mIn[15], line 3\u001b[0m\n\u001b[0;32m      1\u001b[0m \u001b[38;5;28;01mdef\u001b[39;00m \u001b[38;5;21mhello\u001b[39m(first,last\u001b[38;5;241m=\u001b[39m\u001b[38;5;124m'\u001b[39m\u001b[38;5;124m'\u001b[39m):\n\u001b[0;32m      2\u001b[0m     \u001b[38;5;28;01mreturn\u001b[39;00m \u001b[38;5;124mf\u001b[39m\u001b[38;5;124m'\u001b[39m\u001b[38;5;124mhello, \u001b[39m\u001b[38;5;132;01m{\u001b[39;00mfirst\u001b[38;5;132;01m}\u001b[39;00m\u001b[38;5;124m \u001b[39m\u001b[38;5;132;01m{\u001b[39;00mlast\u001b[38;5;132;01m}\u001b[39;00m\u001b[38;5;124m'\u001b[39m\n\u001b[1;32m----> 3\u001b[0m \u001b[43mhello\u001b[49m\u001b[43m(\u001b[49m\u001b[38;5;124;43m'\u001b[39;49m\u001b[38;5;124;43mVikraman\u001b[39;49m\u001b[38;5;124;43m'\u001b[39;49m\u001b[43m,\u001b[49m\u001b[38;5;124;43m\"\u001b[39;49m\u001b[38;5;124;43m \u001b[39;49m\u001b[38;5;124;43m\"\u001b[39;49m\u001b[43m,\u001b[49m\u001b[38;5;241;43m2\u001b[39;49m\u001b[43m)\u001b[49m\n",
      "\u001b[1;31mTypeError\u001b[0m: hello() takes from 1 to 2 positional arguments but 3 were given"
     ]
    }
   ],
   "source": [
    "def hello(first,last=''):\n",
    "    return f'hello, {first} {last}'\n",
    "hello('Vikraman',\" \",2)"
   ]
  },
  {
   "cell_type": "code",
   "execution_count": 16,
   "id": "32d71a86",
   "metadata": {},
   "outputs": [
    {
     "data": {
      "text/plain": [
       "('',)"
      ]
     },
     "execution_count": 16,
     "metadata": {},
     "output_type": "execute_result"
    }
   ],
   "source": [
    "# this is where python stores the default value of the user defined function\n",
    "hello.__defaults__"
   ]
  },
  {
   "cell_type": "code",
   "execution_count": 17,
   "id": "d6f89745",
   "metadata": {},
   "outputs": [
    {
     "data": {
      "text/plain": [
       "'hello, world '"
      ]
     },
     "execution_count": 17,
     "metadata": {},
     "output_type": "execute_result"
    }
   ],
   "source": [
    "hello('world')\n",
    "# first checks number of parameters, there must be 2 but there is only one. But before it can throw an error \n",
    "# it checks for any defaults in hello.__defaults__ there is a default value and it applies it"
   ]
  },
  {
   "cell_type": "code",
   "execution_count": 18,
   "id": "07f5adaa",
   "metadata": {},
   "outputs": [
    {
     "data": {
      "text/plain": [
       "1002"
      ]
     },
     "execution_count": 18,
     "metadata": {},
     "output_type": "execute_result"
    }
   ],
   "source": [
    "def foo(a,b,c,d=1,e=2,f=3):\n",
    "    return a+b+c+d+e\n",
    "foo(100,200,300,400)\n",
    "#checks for any default before throwing any error and then adds them"
   ]
  },
  {
   "cell_type": "code",
   "execution_count": 20,
   "id": "a23f15db",
   "metadata": {},
   "outputs": [
    {
     "name": "stdout",
     "output_type": "stream",
     "text": [
      "Error: unsupported operand type(s) for +=: 'int' and 'str'\n"
     ]
    }
   ],
   "source": [
    "def mysum(mylist):\n",
    "    add=0\n",
    "    try:\n",
    "        for i in mylist:\n",
    "            add+=i\n",
    "        return add\n",
    "    except TypeError as e:\n",
    "        print(f'Error: {e}')\n",
    "mysum('abcd')"
   ]
  },
  {
   "cell_type": "code",
   "execution_count": 30,
   "id": "c580ae9b",
   "metadata": {},
   "outputs": [
    {
     "data": {
      "text/plain": [
       "'Minimum is 10 Maximum is 30'"
      ]
     },
     "execution_count": 30,
     "metadata": {},
     "output_type": "execute_result"
    }
   ],
   "source": [
    "def minmax(mylist):\n",
    "    min= 0\n",
    "    max=0\n",
    "    mylist=sorted(mylist)\n",
    "    return f'Minimum is {mylist[0]} Maximum is {mylist[-1]}'\n",
    "minmax([30,20,10])"
   ]
  },
  {
   "cell_type": "code",
   "execution_count": 35,
   "id": "858a87d8",
   "metadata": {},
   "outputs": [
    {
     "data": {
      "text/plain": [
       "200"
      ]
     },
     "execution_count": 35,
     "metadata": {},
     "output_type": "execute_result"
    }
   ],
   "source": [
    "def calc(a:int,b:int,c='+'):\n",
    "    if c=='+':\n",
    "        return a+b\n",
    "    elif c=='_':\n",
    "        return a-b\n",
    "    elif c==\"*\":\n",
    "        return a*b\n",
    "    elif c=='/':\n",
    "        return a/b\n",
    "    else:\n",
    "        return 'Error'\n",
    "calc(10,20,\"*\")\n",
    "            "
   ]
  },
  {
   "cell_type": "code",
   "execution_count": 39,
   "id": "5e93f73d",
   "metadata": {},
   "outputs": [
    {
     "ename": "FileNotFoundError",
     "evalue": "[Errno 2] No such file or directory: '\\\\etc\\\\passwd'",
     "output_type": "error",
     "traceback": [
      "\u001b[1;31m---------------------------------------------------------------------------\u001b[0m",
      "\u001b[1;31mFileNotFoundError\u001b[0m                         Traceback (most recent call last)",
      "Cell \u001b[1;32mIn[39], line 18\u001b[0m\n\u001b[0;32m     16\u001b[0m                 output[\u001b[38;5;124m'\u001b[39m\u001b[38;5;124mother\u001b[39m\u001b[38;5;124m'\u001b[39m]\u001b[38;5;241m+\u001b[39m\u001b[38;5;241m=\u001b[39m\u001b[38;5;241m1\u001b[39m\n\u001b[0;32m     17\u001b[0m     \u001b[38;5;28;01mreturn\u001b[39;00m output\n\u001b[1;32m---> 18\u001b[0m \u001b[43mfilestats\u001b[49m\u001b[43m(\u001b[49m\u001b[38;5;124;43m'\u001b[39;49m\u001b[38;5;124;43m\\\u001b[39;49m\u001b[38;5;124;43metc\u001b[39;49m\u001b[38;5;124;43m\\\u001b[39;49m\u001b[38;5;124;43mpasswd\u001b[39;49m\u001b[38;5;124;43m'\u001b[39;49m\u001b[43m)\u001b[49m\n",
      "Cell \u001b[1;32mIn[39], line 7\u001b[0m, in \u001b[0;36mfilestats\u001b[1;34m(filename)\u001b[0m\n\u001b[0;32m      2\u001b[0m \u001b[38;5;28;01mdef\u001b[39;00m \u001b[38;5;21mfilestats\u001b[39m(filename):\n\u001b[0;32m      3\u001b[0m     output\u001b[38;5;241m=\u001b[39m{\u001b[38;5;124m'\u001b[39m\u001b[38;5;124mvowels\u001b[39m\u001b[38;5;124m'\u001b[39m:\u001b[38;5;241m0\u001b[39m,\n\u001b[0;32m      4\u001b[0m            \u001b[38;5;124m'\u001b[39m\u001b[38;5;124mconsonants\u001b[39m\u001b[38;5;124m'\u001b[39m:\u001b[38;5;241m0\u001b[39m,\n\u001b[0;32m      5\u001b[0m            \u001b[38;5;124m'\u001b[39m\u001b[38;5;124mdigits\u001b[39m\u001b[38;5;124m'\u001b[39m:\u001b[38;5;241m0\u001b[39m,\n\u001b[0;32m      6\u001b[0m            \u001b[38;5;124m'\u001b[39m\u001b[38;5;124mother\u001b[39m\u001b[38;5;124m'\u001b[39m:\u001b[38;5;241m0\u001b[39m}\n\u001b[1;32m----> 7\u001b[0m     \u001b[38;5;28;01mfor\u001b[39;00m one_line \u001b[38;5;129;01min\u001b[39;00m \u001b[38;5;28;43mopen\u001b[39;49m\u001b[43m(\u001b[49m\u001b[43mfilename\u001b[49m\u001b[43m)\u001b[49m:\n\u001b[0;32m      8\u001b[0m         \u001b[38;5;28;01mfor\u001b[39;00m one_char \u001b[38;5;129;01min\u001b[39;00m one_line:\n\u001b[0;32m      9\u001b[0m             \u001b[38;5;28;01mif\u001b[39;00m one_char \u001b[38;5;129;01min\u001b[39;00m \u001b[38;5;124m'\u001b[39m\u001b[38;5;124maeiou\u001b[39m\u001b[38;5;124m'\u001b[39m:\n",
      "File \u001b[1;32m~\\anaconda3\\lib\\site-packages\\IPython\\core\\interactiveshell.py:282\u001b[0m, in \u001b[0;36m_modified_open\u001b[1;34m(file, *args, **kwargs)\u001b[0m\n\u001b[0;32m    275\u001b[0m \u001b[38;5;28;01mif\u001b[39;00m file \u001b[38;5;129;01min\u001b[39;00m {\u001b[38;5;241m0\u001b[39m, \u001b[38;5;241m1\u001b[39m, \u001b[38;5;241m2\u001b[39m}:\n\u001b[0;32m    276\u001b[0m     \u001b[38;5;28;01mraise\u001b[39;00m \u001b[38;5;167;01mValueError\u001b[39;00m(\n\u001b[0;32m    277\u001b[0m         \u001b[38;5;124mf\u001b[39m\u001b[38;5;124m\"\u001b[39m\u001b[38;5;124mIPython won\u001b[39m\u001b[38;5;124m'\u001b[39m\u001b[38;5;124mt let you open fd=\u001b[39m\u001b[38;5;132;01m{\u001b[39;00mfile\u001b[38;5;132;01m}\u001b[39;00m\u001b[38;5;124m by default \u001b[39m\u001b[38;5;124m\"\u001b[39m\n\u001b[0;32m    278\u001b[0m         \u001b[38;5;124m\"\u001b[39m\u001b[38;5;124mas it is likely to crash IPython. If you know what you are doing, \u001b[39m\u001b[38;5;124m\"\u001b[39m\n\u001b[0;32m    279\u001b[0m         \u001b[38;5;124m\"\u001b[39m\u001b[38;5;124myou can use builtins\u001b[39m\u001b[38;5;124m'\u001b[39m\u001b[38;5;124m open.\u001b[39m\u001b[38;5;124m\"\u001b[39m\n\u001b[0;32m    280\u001b[0m     )\n\u001b[1;32m--> 282\u001b[0m \u001b[38;5;28;01mreturn\u001b[39;00m \u001b[43mio_open\u001b[49m\u001b[43m(\u001b[49m\u001b[43mfile\u001b[49m\u001b[43m,\u001b[49m\u001b[43m \u001b[49m\u001b[38;5;241;43m*\u001b[39;49m\u001b[43margs\u001b[49m\u001b[43m,\u001b[49m\u001b[43m \u001b[49m\u001b[38;5;241;43m*\u001b[39;49m\u001b[38;5;241;43m*\u001b[39;49m\u001b[43mkwargs\u001b[49m\u001b[43m)\u001b[49m\n",
      "\u001b[1;31mFileNotFoundError\u001b[0m: [Errno 2] No such file or directory: '\\\\etc\\\\passwd'"
     ]
    }
   ],
   "source": [
    "from string import ascii_lowercase\n",
    "def filestats(filename):\n",
    "    output={'vowels':0,\n",
    "           'consonants':0,\n",
    "           'digits':0,\n",
    "           'other':0}\n",
    "    for one_line in open(filename):\n",
    "        for one_char in one_line:\n",
    "            if one_char in 'aeiou':\n",
    "                output['vowels']+=1\n",
    "            elif one_char in ascii_lowercase:\n",
    "                output['consonants']+=1\n",
    "            elif one_char.isdigit():\n",
    "                output['digits']+=1\n",
    "            else:\n",
    "                output['other']+=1\n",
    "    return output\n",
    "filestats('\\etc\\passwd')"
   ]
  },
  {
   "cell_type": "code",
   "execution_count": 40,
   "id": "74419523",
   "metadata": {},
   "outputs": [
    {
     "data": {
      "text/plain": [
       "30"
      ]
     },
     "execution_count": 40,
     "metadata": {},
     "output_type": "execute_result"
    }
   ],
   "source": [
    "#actual parameters -- parameters passed to a function\n",
    "#formal parameters -- parameters received by a function\n",
    "\n",
    "def add(a,b): # a and b are the formal parameters\n",
    "    return a+b\n",
    "add(10,20)# 10 and 20 are the actual parameters"
   ]
  },
  {
   "cell_type": "markdown",
   "id": "088b710f",
   "metadata": {},
   "source": [
    "## Call by Value:\n",
    "## In call by value, a copy of the value of the argument is passed to the function. The function works with the copy, and any modifications made to the argument inside the function do not affect the original variable outside the function."
   ]
  },
  {
   "cell_type": "code",
   "execution_count": 41,
   "id": "b1bd05fc",
   "metadata": {},
   "outputs": [
    {
     "name": "stdout",
     "output_type": "stream",
     "text": [
      "Inside the function: 6\n",
      "Outside the function: 5\n"
     ]
    }
   ],
   "source": [
    "def increment(num):\n",
    "    num += 1\n",
    "    print(\"Inside the function:\", num)\n",
    "\n",
    "n = 5\n",
    "increment(n)\n",
    "print(\"Outside the function:\", n)"
   ]
  },
  {
   "cell_type": "markdown",
   "id": "f40fc92d",
   "metadata": {},
   "source": [
    "## In the above example, the increment() function takes a copy of the value of n and increments it by 1. The modification inside the function doesn't affect the original variable n outside the function."
   ]
  },
  {
   "cell_type": "markdown",
   "id": "725308d8",
   "metadata": {},
   "source": [
    "## Call by Reference:\n",
    "## In call by reference, the memory address (reference) of the argument is passed to the function. As a result, any changes made to the argument inside the function directly affect the original variable outside the function."
   ]
  },
  {
   "cell_type": "code",
   "execution_count": 43,
   "id": "ce6d8d0e",
   "metadata": {},
   "outputs": [
    {
     "name": "stdout",
     "output_type": "stream",
     "text": [
      "Inside the function: [6, 10, 15]\n",
      "Outside the function: [6, 10, 15]\n"
     ]
    }
   ],
   "source": [
    "def increment(lst):\n",
    "    lst[0] += 1\n",
    "    print(\"Inside the function:\", lst)\n",
    "\n",
    "my_list = [5, 10, 15]\n",
    "increment(my_list)\n",
    "print(\"Outside the function:\", my_list)"
   ]
  },
  {
   "cell_type": "markdown",
   "id": "2ca529d5",
   "metadata": {},
   "source": [
    "## In the above example, the increment() function takes the reference (memory address) of my_list and modifies the first element by incrementing it by 1. Since the reference is passed, the modification affects the original my_list variable."
   ]
  },
  {
   "cell_type": "code",
   "execution_count": 4,
   "id": "c26dcca4",
   "metadata": {},
   "outputs": [
    {
     "name": "stdout",
     "output_type": "stream",
     "text": [
      "Hello\n"
     ]
    }
   ],
   "source": [
    "#Immutable Objects (Passed by Object Reference):\n",
    "def modify_string(s):\n",
    "    s = s + \" World\"\n",
    "\n",
    "my_string = \"Hello\"\n",
    "modify_string(my_string)\n",
    "print(my_string)  # Output: \"Hello"
   ]
  },
  {
   "cell_type": "markdown",
   "id": "2ca58731",
   "metadata": {},
   "source": [
    "## integers, floats, strings, and tuples are immutable, any operation that appears to modify them actually creates a new object, leaving the original object unchanged. When you pass a mutable object to a function or assign it to another variable, you are working with a reference to the same object in memory. Any changes made to the object will affect the original object since it's mutable.  in Python, objects are generally passed by reference in the sense that you are working with a reference to the object in memory. However, the behavior can vary depending on whether the object is mutable or immutable and what you do with it within the function or assignment."
   ]
  },
  {
   "cell_type": "markdown",
   "id": "f36e13a5",
   "metadata": {},
   "source": [
    "\n",
    "\n",
    "# Call by sharing\n",
    "\n",
    "## In Python, the concept of \"call by sharing\" is used to pass arguments to functions. Call by sharing is similar to call by value in that it creates a copy of the value, but it behaves differently when it comes to mutable objects like lists or dictionaries.\n",
    "\n",
    "## In call by sharing, the function receives a copy of the reference to the object being passed, rather than a copy of the actual object. This means that changes made to the object inside the function can affect the original object, but reassigning the reference inside the function will not affect the original reference."
   ]
  },
  {
   "cell_type": "code",
   "execution_count": 2,
   "id": "d8881471",
   "metadata": {},
   "outputs": [
    {
     "name": "stdout",
     "output_type": "stream",
     "text": [
      "Inside the function: [6, 10, 15]\n",
      "Outside the function: [6, 10, 15]\n"
     ]
    }
   ],
   "source": [
    "def increment(lst):\n",
    "    lst[0] += 1\n",
    "    print(\"Inside the function:\", lst)\n",
    "\n",
    "my_list = [5, 10, 15]\n",
    "increment(my_list)\n",
    "print(\"Outside the function:\", my_list)"
   ]
  },
  {
   "cell_type": "markdown",
   "id": "eddace98",
   "metadata": {},
   "source": [
    "## In the above example, the increment() function takes the reference (memory address) of my_list and modifies the first element by incrementing it by 1. Since the reference is passed, the modification affects the original my_list variable.\n",
    "\n",
    "## It's important to note that not all programming languages support both call by value and call by reference. Some languages only support one of these mechanisms, while others provide additional mechanisms like call by sharing or call by object-sharing, which have similar effects to call by reference."
   ]
  },
  {
   "cell_type": "markdown",
   "id": "4ac4cd03",
   "metadata": {},
   "source": [
    "\n",
    "\n",
    "## Mutable Defaults:\n",
    "\n",
    "\n",
    "## If you use a mutable object, such as a list or a dictionary, as the default value for a parameter, the default value is created only once when the function is defined. The same object is used as the default value for subsequent calls to the function."
   ]
  },
  {
   "cell_type": "code",
   "execution_count": 2,
   "id": "2de7b398",
   "metadata": {},
   "outputs": [
    {
     "name": "stdout",
     "output_type": "stream",
     "text": [
      "[1]\n",
      "[1, 2]\n",
      "[1, 2, 3]\n"
     ]
    }
   ],
   "source": [
    "def append_to_list(element, my_list=[]):\n",
    "    my_list.append(element)\n",
    "    return my_list\n",
    "\n",
    "print(append_to_list(1))    # Output: [1]\n",
    "print(append_to_list(2))    # Output: [1, 2]\n",
    "print(append_to_list(3))    # Output: [1, 2, 3]\n"
   ]
  },
  {
   "cell_type": "markdown",
   "id": "50137f90",
   "metadata": {},
   "source": [
    "## In the above code, we have a function append_to_list() that takes an element and a my_list parameter. The default value for my_list is an empty list []. When the function is called without providing a value for my_list, the default list is used. However, since the default list is mutable and created only once during function definition, subsequent calls to the function will keep modifying and returning the same list."
   ]
  },
  {
   "cell_type": "markdown",
   "id": "2a78bf31",
   "metadata": {},
   "source": [
    "\n",
    "\n",
    "## Immutable Defaults:\n",
    "## If you use an immutable object, such as a number or a string, as the default value for a parameter, the default value is evaluated and set each time the function is called. This means that the default value is not shared across different function calls."
   ]
  },
  {
   "cell_type": "code",
   "execution_count": 3,
   "id": "2d384f15",
   "metadata": {},
   "outputs": [
    {
     "name": "stdout",
     "output_type": "stream",
     "text": [
      "6\n",
      "12\n",
      "6\n"
     ]
    }
   ],
   "source": [
    "def multiply(a, b=2):\n",
    "    return a * b\n",
    "\n",
    "print(multiply(3))    # Output: 6\n",
    "print(multiply(3, 4))    # Output: 12\n",
    "print(multiply(3))    # Output: 6\n"
   ]
  },
  {
   "cell_type": "markdown",
   "id": "f4c6990f",
   "metadata": {},
   "source": [
    "## In this code, we define a function multiply() that takes two parameters, a and b. The default value for b is set to 2. When the function is called without providing a value for b, the default value of 2 is used. However, since 2 is an immutable value, it is evaluated and set each time the function is called. Therefore, subsequent calls to the function will use the default value of 2 without affecting previous calls."
   ]
  },
  {
   "cell_type": "code",
   "execution_count": null,
   "id": "cb7a22fb",
   "metadata": {},
   "outputs": [],
   "source": []
  }
 ],
 "metadata": {
  "kernelspec": {
   "display_name": "Python 3 (ipykernel)",
   "language": "python",
   "name": "python3"
  },
  "language_info": {
   "codemirror_mode": {
    "name": "ipython",
    "version": 3
   },
   "file_extension": ".py",
   "mimetype": "text/x-python",
   "name": "python",
   "nbconvert_exporter": "python",
   "pygments_lexer": "ipython3",
   "version": "3.8.8"
  }
 },
 "nbformat": 4,
 "nbformat_minor": 5
}

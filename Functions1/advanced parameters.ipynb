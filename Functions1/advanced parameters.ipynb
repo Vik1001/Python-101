{
 "cells": [
  {
   "cell_type": "code",
   "execution_count": 2,
   "id": "30ac6159",
   "metadata": {},
   "outputs": [
    {
     "data": {
      "text/plain": [
       "150"
      ]
     },
     "execution_count": 2,
     "metadata": {},
     "output_type": "execute_result"
    }
   ],
   "source": [
    "def mysum(numbers):\n",
    "    total = 0\n",
    "    for one_number in numbers:\n",
    "        total+= one_number\n",
    "    return total\n",
    "\n",
    "mysum([10,20,30,40,50]) #why should I pass a list here \n",
    "                        #why cann't I type the numbers individually"
   ]
  },
  {
   "cell_type": "code",
   "execution_count": 6,
   "id": "44a39794",
   "metadata": {},
   "outputs": [
    {
     "ename": "TypeError",
     "evalue": "mysum() takes 1 positional argument but 5 were given",
     "output_type": "error",
     "traceback": [
      "\u001b[1;31m---------------------------------------------------------------------------\u001b[0m",
      "\u001b[1;31mTypeError\u001b[0m                                 Traceback (most recent call last)",
      "Cell \u001b[1;32mIn[6], line 1\u001b[0m\n\u001b[1;32m----> 1\u001b[0m \u001b[43mmysum\u001b[49m\u001b[43m(\u001b[49m\u001b[38;5;241;43m10\u001b[39;49m\u001b[43m,\u001b[49m\u001b[38;5;241;43m20\u001b[39;49m\u001b[43m,\u001b[49m\u001b[38;5;241;43m30\u001b[39;49m\u001b[43m,\u001b[49m\u001b[38;5;241;43m40\u001b[39;49m\u001b[43m,\u001b[49m\u001b[38;5;241;43m50\u001b[39;49m\u001b[43m)\u001b[49m\n",
      "\u001b[1;31mTypeError\u001b[0m: mysum() takes 1 positional argument but 5 were given"
     ]
    }
   ],
   "source": [
    "mysum(10,20,30,40,50)"
   ]
  },
  {
   "cell_type": "code",
   "execution_count": 6,
   "id": "be932d83",
   "metadata": {},
   "outputs": [],
   "source": [
    "# I want to take as many as arguments without taking the items within a list\n",
    "# to show it is just a one argument\n",
    "def mysum(*numbers):# (*__) splat args\n",
    "    total=0\n",
    "    print(f'numbers {numbers}')\n",
    "    for one_number in numbers:\n",
    "        total+=one_number\n",
    "    return total"
   ]
  },
  {
   "cell_type": "code",
   "execution_count": 10,
   "id": "617d7415",
   "metadata": {},
   "outputs": [
    {
     "name": "stdout",
     "output_type": "stream",
     "text": [
      "numbers (10, 20, 30, 40, 50, 60)\n"
     ]
    },
    {
     "data": {
      "text/plain": [
       "210"
      ]
     },
     "execution_count": 10,
     "metadata": {},
     "output_type": "execute_result"
    }
   ],
   "source": [
    "mysum(10,20,30,40,50,60)"
   ]
  },
  {
   "cell_type": "code",
   "execution_count": 11,
   "id": "bb5e58b0",
   "metadata": {
    "scrolled": true
   },
   "outputs": [
    {
     "name": "stdout",
     "output_type": "stream",
     "text": [
      "numbers ()\n"
     ]
    },
    {
     "data": {
      "text/plain": [
       "0"
      ]
     },
     "execution_count": 11,
     "metadata": {},
     "output_type": "execute_result"
    }
   ],
   "source": [
    "mysum()"
   ]
  },
  {
   "cell_type": "code",
   "execution_count": 13,
   "id": "4f15214f",
   "metadata": {},
   "outputs": [
    {
     "data": {
      "text/plain": [
       "'a=10,b=20,*args'"
      ]
     },
     "execution_count": 13,
     "metadata": {},
     "output_type": "execute_result"
    }
   ],
   "source": [
    "def foo(a,b, *args): #after declaring parameters for positional arguments \n",
    "                     # it will take rest of the parameters into splat-args\n",
    "    return f'a={a},b={b},*args'\n",
    "foo(10,20,30,40,50)   "
   ]
  },
  {
   "cell_type": "code",
   "execution_count": 14,
   "id": "6a0e8989",
   "metadata": {},
   "outputs": [
    {
     "ename": "TypeError",
     "evalue": "foo() missing 2 required keyword-only arguments: 'c' and 'd'",
     "output_type": "error",
     "traceback": [
      "\u001b[1;31m---------------------------------------------------------------------------\u001b[0m",
      "\u001b[1;31mTypeError\u001b[0m                                 Traceback (most recent call last)",
      "Cell \u001b[1;32mIn[14], line 3\u001b[0m\n\u001b[0;32m      1\u001b[0m \u001b[38;5;28;01mdef\u001b[39;00m \u001b[38;5;21mfoo\u001b[39m(a,b,\u001b[38;5;241m*\u001b[39margs,c,d):\n\u001b[0;32m      2\u001b[0m     \u001b[38;5;28;01mreturn\u001b[39;00m \u001b[38;5;124mf\u001b[39m\u001b[38;5;124m'\u001b[39m\u001b[38;5;124ma=\u001b[39m\u001b[38;5;132;01m{\u001b[39;00ma\u001b[38;5;132;01m}\u001b[39;00m\u001b[38;5;124m,b=\u001b[39m\u001b[38;5;132;01m{\u001b[39;00mb\u001b[38;5;132;01m}\u001b[39;00m\u001b[38;5;124m,*args,c=\u001b[39m\u001b[38;5;132;01m{\u001b[39;00mc\u001b[38;5;132;01m}\u001b[39;00m\u001b[38;5;124m,d=\u001b[39m\u001b[38;5;132;01m{\u001b[39;00md\u001b[38;5;132;01m}\u001b[39;00m\u001b[38;5;124m'\u001b[39m\n\u001b[1;32m----> 3\u001b[0m \u001b[43mfoo\u001b[49m\u001b[43m(\u001b[49m\u001b[38;5;241;43m10\u001b[39;49m\u001b[43m,\u001b[49m\u001b[38;5;241;43m20\u001b[39;49m\u001b[43m,\u001b[49m\u001b[38;5;241;43m30\u001b[39;49m\u001b[43m,\u001b[49m\u001b[38;5;241;43m40\u001b[39;49m\u001b[43m,\u001b[49m\u001b[38;5;241;43m50\u001b[39;49m\u001b[43m)\u001b[49m\n",
      "\u001b[1;31mTypeError\u001b[0m: foo() missing 2 required keyword-only arguments: 'c' and 'd'"
     ]
    }
   ],
   "source": [
    "def foo(a,b,*args,c,d):\n",
    "    return f'a={a},b={b},*args,c={c},d={d}'\n",
    "foo(10,20,30,40,50)"
   ]
  },
  {
   "cell_type": "code",
   "execution_count": 15,
   "id": "162bdfe7",
   "metadata": {},
   "outputs": [
    {
     "ename": "SyntaxError",
     "evalue": "positional argument follows keyword argument (85307715.py, line 1)",
     "output_type": "error",
     "traceback": [
      "\u001b[1;36m  Cell \u001b[1;32mIn[15], line 1\u001b[1;36m\u001b[0m\n\u001b[1;33m    foo(10,30,30,c=40,50)\u001b[0m\n\u001b[1;37m                      ^\u001b[0m\n\u001b[1;31mSyntaxError\u001b[0m\u001b[1;31m:\u001b[0m positional argument follows keyword argument\n"
     ]
    }
   ],
   "source": [
    "foo(10,30,30,c=40,50)"
   ]
  },
  {
   "cell_type": "code",
   "execution_count": 19,
   "id": "71573b15",
   "metadata": {},
   "outputs": [
    {
     "data": {
      "text/plain": [
       "'a=10,b=20,*args=(30, 40, 50, 60)'"
      ]
     },
     "execution_count": 19,
     "metadata": {},
     "output_type": "execute_result"
    }
   ],
   "source": [
    "def foo(a,b,*args):  #this works only with positional arguments\n",
    "    return f'a={a},b={b},*args={args}'\n",
    "foo(10,20,30,40,50,60)"
   ]
  },
  {
   "cell_type": "code",
   "execution_count": 26,
   "id": "6744adb8",
   "metadata": {},
   "outputs": [
    {
     "data": {
      "text/plain": [
       "'a=10,b=20,*args=(30,),c=40,d=50'"
      ]
     },
     "execution_count": 26,
     "metadata": {},
     "output_type": "execute_result"
    }
   ],
   "source": [
    "def foo(a,b,*args,c,d):\n",
    "    return f'a={a},b={b},*args={args},c={c},d={d}'\n",
    "foo(10,20,30,c=40,d=50)"
   ]
  },
  {
   "cell_type": "markdown",
   "id": "51b65ce1",
   "metadata": {},
   "source": [
    "# *args (splat-args) is a tuple."
   ]
  },
  {
   "cell_type": "code",
   "execution_count": 7,
   "id": "11e56d66",
   "metadata": {},
   "outputs": [
    {
     "name": "stdout",
     "output_type": "stream",
     "text": [
      "numbers (10, 20, 30, 40, 50, 60)\n"
     ]
    },
    {
     "data": {
      "text/plain": [
       "210"
      ]
     },
     "execution_count": 7,
     "metadata": {},
     "output_type": "execute_result"
    }
   ],
   "source": [
    "mysum(10,20,30,40,50,60)"
   ]
  },
  {
   "cell_type": "code",
   "execution_count": 8,
   "id": "d11bd24a",
   "metadata": {},
   "outputs": [
    {
     "name": "stdout",
     "output_type": "stream",
     "text": [
      "numbers ([10, 20, 30, 40, 50],)\n"
     ]
    },
    {
     "ename": "TypeError",
     "evalue": "unsupported operand type(s) for +=: 'int' and 'list'",
     "output_type": "error",
     "traceback": [
      "\u001b[1;31m---------------------------------------------------------------------------\u001b[0m",
      "\u001b[1;31mTypeError\u001b[0m                                 Traceback (most recent call last)",
      "Cell \u001b[1;32mIn[8], line 1\u001b[0m\n\u001b[1;32m----> 1\u001b[0m \u001b[43mmysum\u001b[49m\u001b[43m(\u001b[49m\u001b[43m[\u001b[49m\u001b[38;5;241;43m10\u001b[39;49m\u001b[43m,\u001b[49m\u001b[38;5;241;43m20\u001b[39;49m\u001b[43m,\u001b[49m\u001b[38;5;241;43m30\u001b[39;49m\u001b[43m,\u001b[49m\u001b[38;5;241;43m40\u001b[39;49m\u001b[43m,\u001b[49m\u001b[38;5;241;43m50\u001b[39;49m\u001b[43m]\u001b[49m\u001b[43m)\u001b[49m\n",
      "Cell \u001b[1;32mIn[6], line 7\u001b[0m, in \u001b[0;36mmysum\u001b[1;34m(*numbers)\u001b[0m\n\u001b[0;32m      5\u001b[0m \u001b[38;5;28mprint\u001b[39m(\u001b[38;5;124mf\u001b[39m\u001b[38;5;124m'\u001b[39m\u001b[38;5;124mnumbers \u001b[39m\u001b[38;5;132;01m{\u001b[39;00mnumbers\u001b[38;5;132;01m}\u001b[39;00m\u001b[38;5;124m'\u001b[39m)\n\u001b[0;32m      6\u001b[0m \u001b[38;5;28;01mfor\u001b[39;00m one_number \u001b[38;5;129;01min\u001b[39;00m numbers:\n\u001b[1;32m----> 7\u001b[0m     total\u001b[38;5;241m+\u001b[39m\u001b[38;5;241m=\u001b[39mone_number\n\u001b[0;32m      8\u001b[0m \u001b[38;5;28;01mreturn\u001b[39;00m total\n",
      "\u001b[1;31mTypeError\u001b[0m: unsupported operand type(s) for +=: 'int' and 'list'"
     ]
    }
   ],
   "source": [
    "mysum([10,20,30,40,50])"
   ]
  },
  {
   "cell_type": "markdown",
   "id": "99c2c50e",
   "metadata": {},
   "source": [
    "# since splat args is a tuple and it is looking for iterables, two lists can't be added\n"
   ]
  },
  {
   "cell_type": "code",
   "execution_count": 12,
   "id": "8d1b582c",
   "metadata": {},
   "outputs": [],
   "source": [
    "def mylist(*args):\n",
    "    print(type(args))"
   ]
  },
  {
   "cell_type": "code",
   "execution_count": 13,
   "id": "d186fdcc",
   "metadata": {},
   "outputs": [
    {
     "name": "stdout",
     "output_type": "stream",
     "text": [
      "<class 'tuple'>\n"
     ]
    }
   ],
   "source": [
    "mylist(10,20,'shoes',{'list':[203,405]})"
   ]
  },
  {
   "cell_type": "markdown",
   "id": "25e7f1db",
   "metadata": {},
   "source": [
    "# with the above output we can hence come to a conclusion splat args indeed is a tuple"
   ]
  },
  {
   "cell_type": "code",
   "execution_count": 16,
   "id": "462adef3",
   "metadata": {},
   "outputs": [
    {
     "ename": "TypeError",
     "evalue": "can only concatenate str (not \"list\") to str",
     "output_type": "error",
     "traceback": [
      "\u001b[1;31m---------------------------------------------------------------------------\u001b[0m",
      "\u001b[1;31mTypeError\u001b[0m                                 Traceback (most recent call last)",
      "Cell \u001b[1;32mIn[16], line 6\u001b[0m\n\u001b[0;32m      4\u001b[0m         \u001b[38;5;28msum\u001b[39m\u001b[38;5;241m+\u001b[39m\u001b[38;5;241m=\u001b[39mi\n\u001b[0;32m      5\u001b[0m     \u001b[38;5;28;01mreturn\u001b[39;00m \u001b[38;5;28msum\u001b[39m\n\u001b[1;32m----> 6\u001b[0m \u001b[43mstringconcat\u001b[49m\u001b[43m(\u001b[49m\u001b[43m[\u001b[49m\u001b[38;5;124;43m'\u001b[39;49m\u001b[38;5;124;43mhello \u001b[39;49m\u001b[38;5;124;43m'\u001b[39;49m\u001b[43m,\u001b[49m\u001b[38;5;124;43m'\u001b[39;49m\u001b[38;5;124;43mmy \u001b[39;49m\u001b[38;5;124;43m'\u001b[39;49m\u001b[43m,\u001b[49m\u001b[38;5;124;43m'\u001b[39;49m\u001b[38;5;124;43mname \u001b[39;49m\u001b[38;5;124;43m'\u001b[39;49m\u001b[43m,\u001b[49m\u001b[43m \u001b[49m\u001b[38;5;124;43m'\u001b[39;49m\u001b[38;5;124;43mis \u001b[39;49m\u001b[38;5;124;43m'\u001b[39;49m\u001b[43m,\u001b[49m\u001b[43m \u001b[49m\u001b[38;5;124;43m'\u001b[39;49m\u001b[38;5;124;43mSlimShady\u001b[39;49m\u001b[38;5;124;43m'\u001b[39;49m\u001b[43m]\u001b[49m\u001b[43m)\u001b[49m \n\u001b[0;32m      7\u001b[0m \u001b[38;5;66;03m# sometimes you would have a sequence and you would want to use it on a function\u001b[39;00m\n\u001b[0;32m      8\u001b[0m \u001b[38;5;66;03m# like the above without making any modifications to the original sequence\u001b[39;00m\n",
      "Cell \u001b[1;32mIn[16], line 4\u001b[0m, in \u001b[0;36mstringconcat\u001b[1;34m(*args)\u001b[0m\n\u001b[0;32m      2\u001b[0m \u001b[38;5;28msum\u001b[39m\u001b[38;5;241m=\u001b[39m\u001b[38;5;124m'\u001b[39m\u001b[38;5;124m \u001b[39m\u001b[38;5;124m'\u001b[39m\n\u001b[0;32m      3\u001b[0m \u001b[38;5;28;01mfor\u001b[39;00m i \u001b[38;5;129;01min\u001b[39;00m args:\n\u001b[1;32m----> 4\u001b[0m     \u001b[38;5;28msum\u001b[39m\u001b[38;5;241m+\u001b[39m\u001b[38;5;241m=\u001b[39mi\n\u001b[0;32m      5\u001b[0m \u001b[38;5;28;01mreturn\u001b[39;00m \u001b[38;5;28msum\u001b[39m\n",
      "\u001b[1;31mTypeError\u001b[0m: can only concatenate str (not \"list\") to str"
     ]
    }
   ],
   "source": [
    "def stringconcat(*args):\n",
    "    sum=' '\n",
    "    for i in args:\n",
    "        sum+=i\n",
    "    return sum\n",
    "stringconcat(['hello ','my ','name ', 'is ', 'SlimShady']) \n",
    "# sometimes you would have a sequence and you would want to use it on a function\n",
    "# like the above without making any modifications to the original sequence\n",
    "# you can use '*' to help you with that"
   ]
  },
  {
   "cell_type": "code",
   "execution_count": 17,
   "id": "73feb01a",
   "metadata": {},
   "outputs": [
    {
     "data": {
      "text/plain": [
       "' hello my name is SlimShady'"
      ]
     },
     "execution_count": 17,
     "metadata": {},
     "output_type": "execute_result"
    }
   ],
   "source": [
    "def stringconcat(*args):\n",
    "    sum=' '\n",
    "    for i in args:\n",
    "        sum+=i\n",
    "    return sum\n",
    "stringconcat(*['hello ','my ','name ', 'is ', 'SlimShady'])"
   ]
  },
  {
   "cell_type": "markdown",
   "id": "a5e8715d",
   "metadata": {},
   "source": [
    "# '\\*' used in this stringconcat(*['hello ','my ','name ', 'is ', 'SlimShady']) unpacks each element from the sequence without making any modifications to the sequence. Here is a better example."
   ]
  },
  {
   "cell_type": "code",
   "execution_count": 22,
   "id": "fbdd645c",
   "metadata": {},
   "outputs": [
    {
     "name": "stdout",
     "output_type": "stream",
     "text": [
      " hello my name is SlimShady\n",
      "['hello ', 'my ', 'name ', 'is ', 'SlimShady']\n"
     ]
    }
   ],
   "source": [
    "def stringconcat(*args):\n",
    "    sum=' '\n",
    "    for i in args:\n",
    "        sum+=i\n",
    "    return sum\n",
    "listofstring=['hello ','my ','name ', 'is ', 'SlimShady']\n",
    "print(stringconcat(*listofstring))\n",
    "print(listofstring)\n",
    "# no changes has been made to the original sequence"
   ]
  },
  {
   "cell_type": "markdown",
   "id": "ac96871f",
   "metadata": {},
   "source": [
    "# if you want to use an argument with a default value and also want to use splat args in function; then put the argument with the default value after the splat args"
   ]
  },
  {
   "cell_type": "code",
   "execution_count": 4,
   "id": "dd919fd4",
   "metadata": {},
   "outputs": [
    {
     "data": {
      "text/plain": [
       "'a=10,args=(20, 30),b=-3'"
      ]
     },
     "execution_count": 4,
     "metadata": {},
     "output_type": "execute_result"
    }
   ],
   "source": [
    "def printmylist(a,*args,b=10):\n",
    "    return f'a={a},args={args},b={b}'\n",
    "printmylist(10,20,30,b=-3)"
   ]
  },
  {
   "cell_type": "code",
   "execution_count": 5,
   "id": "e31fd798",
   "metadata": {},
   "outputs": [
    {
     "data": {
      "text/plain": [
       "'a=10,b=-3,args=(20, 30)'"
      ]
     },
     "execution_count": 5,
     "metadata": {},
     "output_type": "execute_result"
    }
   ],
   "source": [
    "def printmylist(a,*args,b=10):\n",
    "    return f'a={a},b={b},args={args}'\n",
    "printmylist(10,20,30,b=-3)"
   ]
  },
  {
   "cell_type": "markdown",
   "id": "f82eb6ab",
   "metadata": {},
   "source": [
    "# Exercise \n",
    "(1) Define a \"calcmany\" function that takes a string (one of +, -, *,\n",
    "    and /) and any number of numbers.  The string will indicate what\n",
    "    mathematical operation we'll invoke on each of the numbers,\n",
    "    starting with the first pair of numbers, and going through the\n",
    "    rest.\n",
    "\n",
    "    Thus, calcmany(\"+\", 100, 10, 2) will return 112, while\n",
    "    calcmany(\"/\", 100, 10, 2, 5) will return 1 -- because 100/10 is 10,\n",
    "    10/2 is 5, and 5/1 is 1."
   ]
  },
  {
   "cell_type": "code",
   "execution_count": 13,
   "id": "3b40248c",
   "metadata": {},
   "outputs": [
    {
     "name": "stdout",
     "output_type": "stream",
     "text": [
      "24000\n"
     ]
    }
   ],
   "source": [
    "def calcmany(a, *args):\n",
    "    result = args[0]\n",
    "\n",
    "    if a == '+':\n",
    "        for i in args[1:]:\n",
    "            result += i\n",
    "        print(result)\n",
    "\n",
    "    elif a == '-':\n",
    "        for i in args[1:]:\n",
    "            result -= i\n",
    "        print(result)\n",
    "\n",
    "    elif a == '*':\n",
    "        for i in args[1:]:\n",
    "            result *= i\n",
    "        print(result)\n",
    "\n",
    "    elif a == '/':\n",
    "        for i in args[1:]:\n",
    "            result /= i\n",
    "        print(result)\n",
    "\n",
    "    else:\n",
    "        print(\"Error\")\n",
    "\n",
    "calcmany(\"*\", 20, 30, 40)\n"
   ]
  },
  {
   "cell_type": "markdown",
   "id": "8328f8ad",
   "metadata": {},
   "source": [
    "(2) Define a function that takes one mandatory argument (the name of\n",
    "    an output file), any number of additional arguments (names of\n",
    "    input files), and an optional argument (\"separator\") that defaults\n",
    "    to an empty string.  The function, when called, should read\n",
    "    through each of the lines in the input files and write them in the\n",
    "    named output file. Between the contents of each file, the\n",
    "    separator should be written."
   ]
  },
  {
   "cell_type": "code",
   "execution_count": null,
   "id": "0b7f1062",
   "metadata": {},
   "outputs": [],
   "source": []
  }
 ],
 "metadata": {
  "kernelspec": {
   "display_name": "Python 3 (ipykernel)",
   "language": "python",
   "name": "python3"
  },
  "language_info": {
   "codemirror_mode": {
    "name": "ipython",
    "version": 3
   },
   "file_extension": ".py",
   "mimetype": "text/x-python",
   "name": "python",
   "nbconvert_exporter": "python",
   "pygments_lexer": "ipython3",
   "version": "3.8.8"
  }
 },
 "nbformat": 4,
 "nbformat_minor": 5
}

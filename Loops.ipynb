{
 "cells": [
  {
   "cell_type": "code",
   "execution_count": 1,
   "id": "cbbb1c3c",
   "metadata": {},
   "outputs": [
    {
     "name": "stdout",
     "output_type": "stream",
     "text": [
      "0,a\n",
      "1,b\n",
      "2,c\n",
      "3,d\n"
     ]
    }
   ],
   "source": [
    "s='abcd'\n",
    "index=0\n",
    "for one_letter in s:\n",
    "    print(f\"{index},{one_letter}\")\n",
    "    index+=1"
   ]
  },
  {
   "cell_type": "code",
   "execution_count": 7,
   "id": "9a0e904f",
   "metadata": {},
   "outputs": [
    {
     "name": "stdout",
     "output_type": "stream",
     "text": [
      "0 a\n",
      "1 b\n",
      "2 c\n",
      "3 d\n"
     ]
    }
   ],
   "source": [
    "s='abcd'\n",
    "for index,one_letter in enumerate(s):\n",
    "    print(f\"{index} {one_letter}\")"
   ]
  },
  {
   "cell_type": "code",
   "execution_count": 8,
   "id": "21d56ea1",
   "metadata": {},
   "outputs": [
    {
     "name": "stdout",
     "output_type": "stream",
     "text": [
      "enter number: 5\n",
      "enter your name: Vikraman\n",
      "Vikraman\n",
      "Vikraman\n",
      "Vikraman\n",
      "Vikraman\n",
      "Vikraman\n"
     ]
    }
   ],
   "source": [
    "number=int(input(\"enter number: \"))\n",
    "name=input(\"enter your name: \")\n",
    "for i in range(number):\n",
    "    print(name)"
   ]
  },
  {
   "cell_type": "code",
   "execution_count": 14,
   "id": "c29e9010",
   "metadata": {},
   "outputs": [
    {
     "name": "stdout",
     "output_type": "stream",
     "text": [
      "\n",
      "V\n",
      "Vi\n",
      "Vik\n",
      "Vikr\n",
      "Vikra\n",
      "Vikram\n",
      "Vikrama\n",
      "Vikraman\n"
     ]
    }
   ],
   "source": [
    "for i in range(len(name)+1):\n",
    "    print(name[:i])\n"
   ]
  },
  {
   "cell_type": "code",
   "execution_count": 15,
   "id": "cc7a6770",
   "metadata": {},
   "outputs": [
    {
     "name": "stdout",
     "output_type": "stream",
     "text": [
      "a\n",
      "b\n",
      "c\n",
      "Found d\n"
     ]
    }
   ],
   "source": [
    "s='abcde'\n",
    "one_letter='d'\n",
    "for index in s:\n",
    "    if index==one_letter:\n",
    "        print(f\"Found {one_letter}\")\n",
    "        break   # break method breaks the iteration once the condition is met\n",
    "    print(index)"
   ]
  },
  {
   "cell_type": "code",
   "execution_count": 16,
   "id": "f88b220b",
   "metadata": {},
   "outputs": [
    {
     "name": "stdout",
     "output_type": "stream",
     "text": [
      "a\n",
      "b\n",
      "c\n",
      "Found d\n",
      "e\n"
     ]
    }
   ],
   "source": [
    "s='abcde'\n",
    "one_letter='d'\n",
    "for index in s:\n",
    "    if index==one_letter:\n",
    "        print(f\"Found {one_letter}\")\n",
    "        continue # continue method skips the iteration if a condition is met\n",
    "    print(index)"
   ]
  },
  {
   "cell_type": "code",
   "execution_count": 1,
   "id": "c7227112",
   "metadata": {},
   "outputs": [
    {
     "name": "stdout",
     "output_type": "stream",
     "text": [
      "found d\n",
      "didn't find d\n"
     ]
    }
   ],
   "source": [
    "s='abcde'\n",
    "look_for='d'\n",
    "#LIKE IF-ELSE THERE IS SOMETHING CALLED FOR-ELSE\n",
    "for i in s:\n",
    "    if i==look_for:\n",
    "        print(f'found {look_for}') #the else block is executed when the loop finishes iterating through all items in the\n",
    "                                    #iterable without encountering a break statement\n",
    "        \n",
    "else:\n",
    "    print(f'didn\\'t find {look_for}')"
   ]
  },
  {
   "cell_type": "code",
   "execution_count": 20,
   "id": "b163faf2",
   "metadata": {},
   "outputs": [
    {
     "name": "stdout",
     "output_type": "stream",
     "text": [
      "found d\n"
     ]
    }
   ],
   "source": [
    "s='abcde'\n",
    "look_for='d'\n",
    "#LIKE IF-ELSE THERE IS SOMETHING CALLED FOR-ELSE\n",
    "for i in s:\n",
    "    if i==look_for:\n",
    "        print(f'found {look_for}') #recognises the else as for else only if there is a break method to break the loop\n",
    "        break\n",
    "else:\n",
    "    print(f'didn\\'t find {look_for}')"
   ]
  },
  {
   "cell_type": "code",
   "execution_count": null,
   "id": "12806d4d",
   "metadata": {},
   "outputs": [],
   "source": [
    "a=10\n",
    "i=0\n",
    "while i<a:\n",
    "    print(i)\n",
    "    i=i+1"
   ]
  },
  {
   "cell_type": "code",
   "execution_count": null,
   "id": "d394d012",
   "metadata": {},
   "outputs": [],
   "source": []
  }
 ],
 "metadata": {
  "kernelspec": {
   "display_name": "Python 3 (ipykernel)",
   "language": "python",
   "name": "python3"
  },
  "language_info": {
   "codemirror_mode": {
    "name": "ipython",
    "version": 3
   },
   "file_extension": ".py",
   "mimetype": "text/x-python",
   "name": "python",
   "nbconvert_exporter": "python",
   "pygments_lexer": "ipython3",
   "version": "3.8.8"
  }
 },
 "nbformat": 4,
 "nbformat_minor": 5
}

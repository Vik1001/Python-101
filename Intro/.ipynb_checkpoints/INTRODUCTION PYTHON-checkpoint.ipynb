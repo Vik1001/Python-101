{
 "cells": [
  {
   "cell_type": "code",
   "execution_count": 1,
   "id": "f33846c1",
   "metadata": {},
   "outputs": [],
   "source": [
    "x=10\n",
    "x=20\n",
    "x=30"
   ]
  },
  {
   "cell_type": "code",
   "execution_count": 2,
   "id": "717b2e17",
   "metadata": {},
   "outputs": [
    {
     "data": {
      "text/plain": [
       "30"
      ]
     },
     "execution_count": 2,
     "metadata": {},
     "output_type": "execute_result"
    }
   ],
   "source": [
    "x"
   ]
  },
  {
   "cell_type": "code",
   "execution_count": 3,
   "id": "59160009",
   "metadata": {},
   "outputs": [],
   "source": [
    "#python is dynamically typed and strongly typed"
   ]
  },
  {
   "cell_type": "code",
   "execution_count": 5,
   "id": "414627f1",
   "metadata": {},
   "outputs": [
    {
     "name": "stdout",
     "output_type": "stream",
     "text": [
      "Enter your name Vikraman\n"
     ]
    }
   ],
   "source": [
    "name = input(\"Enter your name \")"
   ]
  },
  {
   "cell_type": "code",
   "execution_count": 9,
   "id": "0d5d190d",
   "metadata": {},
   "outputs": [
    {
     "name": "stdout",
     "output_type": "stream",
     "text": [
      "Vikraman that is a nice name\n"
     ]
    }
   ],
   "source": [
    "print(name,\"that is a nice name\")"
   ]
  },
  {
   "cell_type": "code",
   "execution_count": 10,
   "id": "85590ce0",
   "metadata": {},
   "outputs": [
    {
     "name": "stdout",
     "output_type": "stream",
     "text": [
      "Enter your age 19\n"
     ]
    }
   ],
   "source": [
    "age=input(\"Enter your age \")"
   ]
  },
  {
   "cell_type": "code",
   "execution_count": 12,
   "id": "58580cc0",
   "metadata": {},
   "outputs": [
    {
     "name": "stdout",
     "output_type": "stream",
     "text": [
      "Wow you are only 19\n"
     ]
    }
   ],
   "source": [
    "print(\"Wow you are only\",age)"
   ]
  },
  {
   "cell_type": "code",
   "execution_count": 13,
   "id": "2bd9eadd",
   "metadata": {},
   "outputs": [
    {
     "ename": "TypeError",
     "evalue": "can only concatenate str (not \"int\") to str",
     "output_type": "error",
     "traceback": [
      "\u001b[1;31m---------------------------------------------------------------------------\u001b[0m",
      "\u001b[1;31mTypeError\u001b[0m                                 Traceback (most recent call last)",
      "\u001b[1;32m<ipython-input-13-eac256a954eb>\u001b[0m in \u001b[0;36m<module>\u001b[1;34m\u001b[0m\n\u001b[1;32m----> 1\u001b[1;33m \u001b[0mage\u001b[0m \u001b[1;33m+\u001b[0m \u001b[1;36m1\u001b[0m\u001b[1;33m\u001b[0m\u001b[1;33m\u001b[0m\u001b[0m\n\u001b[0m",
      "\u001b[1;31mTypeError\u001b[0m: can only concatenate str (not \"int\") to str"
     ]
    }
   ],
   "source": [
    "age + 1"
   ]
  },
  {
   "cell_type": "code",
   "execution_count": 14,
   "id": "1ec1ce83",
   "metadata": {},
   "outputs": [],
   "source": [
    "#input always produces a string value"
   ]
  },
  {
   "cell_type": "code",
   "execution_count": 15,
   "id": "92bb963e",
   "metadata": {},
   "outputs": [
    {
     "data": {
      "text/plain": [
       "20"
      ]
     },
     "execution_count": 15,
     "metadata": {},
     "output_type": "execute_result"
    }
   ],
   "source": [
    "int(age)+1"
   ]
  },
  {
   "cell_type": "code",
   "execution_count": 18,
   "id": "f68563da",
   "metadata": {},
   "outputs": [],
   "source": [
    "#minimaly use comments and write easily understandable code"
   ]
  },
  {
   "cell_type": "code",
   "execution_count": 19,
   "id": "15abfdc1",
   "metadata": {},
   "outputs": [
    {
     "name": "stdout",
     "output_type": "stream",
     "text": [
      "enter name Raghav\n",
      "Hello Raghav\n"
     ]
    }
   ],
   "source": [
    "name=input(\"enter name \")\n",
    "if name == \"Raghav\":\n",
    "    print(\"Hello\",name)\n",
    "else:\n",
    "    print(\"Hello\",name)"
   ]
  },
  {
   "cell_type": "code",
   "execution_count": null,
   "id": "b9c832f1",
   "metadata": {},
   "outputs": [],
   "source": []
  }
 ],
 "metadata": {
  "kernelspec": {
   "display_name": "Python 3",
   "language": "python",
   "name": "python3"
  },
  "language_info": {
   "codemirror_mode": {
    "name": "ipython",
    "version": 3
   },
   "file_extension": ".py",
   "mimetype": "text/x-python",
   "name": "python",
   "nbconvert_exporter": "python",
   "pygments_lexer": "ipython3",
   "version": "3.8.8"
  }
 },
 "nbformat": 4,
 "nbformat_minor": 5
}

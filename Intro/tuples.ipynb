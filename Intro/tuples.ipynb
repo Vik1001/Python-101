{
 "cells": [
  {
   "cell_type": "code",
   "execution_count": 6,
   "id": "69005ca5",
   "metadata": {},
   "outputs": [
    {
     "name": "stdout",
     "output_type": "stream",
     "text": [
      "['title1', 123]\n"
     ]
    }
   ],
   "source": [
    "#tuples\n",
    "\n",
    "#strings--immutable, contain characters\n",
    "#lists-- mutable, can contain any data type\n",
    "#tuple -- immutable, can contain any data\n",
    "# lists are used to hold similar data types and tuples are used to hold different data types. Example of lists are vegatable's \n",
    "#lists and example of tuples are book titles and their isbn number\n",
    "\n",
    "mylist=['capsicum','cucumber','beetroot','cabbage']\n",
    "book1=('title1',123)\n",
    "book2=('title2',345)\n",
    "yourbook=[x for x in book1]\n",
    "print(yourbook)"
   ]
  },
  {
   "cell_type": "code",
   "execution_count": 7,
   "id": "30193993",
   "metadata": {},
   "outputs": [
    {
     "data": {
      "text/plain": [
       "'title1'"
      ]
     },
     "execution_count": 7,
     "metadata": {},
     "output_type": "execute_result"
    }
   ],
   "source": [
    "book1[0]"
   ]
  },
  {
   "cell_type": "code",
   "execution_count": 8,
   "id": "4035e740",
   "metadata": {},
   "outputs": [
    {
     "data": {
      "text/plain": [
       "'title2'"
      ]
     },
     "execution_count": 8,
     "metadata": {},
     "output_type": "execute_result"
    }
   ],
   "source": [
    "book2[0]"
   ]
  },
  {
   "cell_type": "code",
   "execution_count": 9,
   "id": "8cfec061",
   "metadata": {},
   "outputs": [
    {
     "data": {
      "text/plain": [
       "150"
      ]
     },
     "execution_count": 9,
     "metadata": {},
     "output_type": "execute_result"
    }
   ],
   "source": [
    "#lists are used as sequences of same types\n",
    "#tuples are used as sequences of different types\n",
    "\n",
    "sum([10,20,30,40,50])"
   ]
  },
  {
   "cell_type": "code",
   "execution_count": null,
   "id": "4b6fb70a",
   "metadata": {},
   "outputs": [],
   "source": [
    "# any time a method or function is passed the output is received as a tuple\n",
    "# any method or function receives its arguments in tuples because they are immutable and their indexes usually represent a \n",
    "# characteristic, also because tuples are much more memory efficient than tuples"
   ]
  },
  {
   "cell_type": "code",
   "execution_count": 10,
   "id": "415abbe5",
   "metadata": {},
   "outputs": [
    {
     "data": {
      "text/plain": [
       "(10, 20, 30)"
      ]
     },
     "execution_count": 10,
     "metadata": {},
     "output_type": "execute_result"
    }
   ],
   "source": [
    "t=(10,20,30)\n",
    "t"
   ]
  },
  {
   "cell_type": "code",
   "execution_count": 11,
   "id": "ddf41517",
   "metadata": {},
   "outputs": [
    {
     "data": {
      "text/plain": [
       "(10, 20, 30, 10, 20, 30)"
      ]
     },
     "execution_count": 11,
     "metadata": {},
     "output_type": "execute_result"
    }
   ],
   "source": [
    "t+t"
   ]
  },
  {
   "cell_type": "code",
   "execution_count": 14,
   "id": "22888f0f",
   "metadata": {},
   "outputs": [],
   "source": [
    "t+=t #you can't change the values that exist in t already but you can append data to it"
   ]
  },
  {
   "cell_type": "code",
   "execution_count": 13,
   "id": "27cb612f",
   "metadata": {},
   "outputs": [
    {
     "data": {
      "text/plain": [
       "(10, 20, 30, 10, 20, 30)"
      ]
     },
     "execution_count": 13,
     "metadata": {},
     "output_type": "execute_result"
    }
   ],
   "source": [
    "t"
   ]
  },
  {
   "cell_type": "code",
   "execution_count": 15,
   "id": "39b3afaf",
   "metadata": {},
   "outputs": [
    {
     "ename": "TypeError",
     "evalue": "unsupported operand type(s) for -: 'tuple' and 'tuple'",
     "output_type": "error",
     "traceback": [
      "\u001b[1;31m---------------------------------------------------------------------------\u001b[0m",
      "\u001b[1;31mTypeError\u001b[0m                                 Traceback (most recent call last)",
      "Cell \u001b[1;32mIn[15], line 1\u001b[0m\n\u001b[1;32m----> 1\u001b[0m \u001b[43mt\u001b[49m\u001b[38;5;241;43m-\u001b[39;49m\u001b[43mt\u001b[49m\n",
      "\u001b[1;31mTypeError\u001b[0m: unsupported operand type(s) for -: 'tuple' and 'tuple'"
     ]
    }
   ],
   "source": [
    "t-t"
   ]
  },
  {
   "cell_type": "code",
   "execution_count": 16,
   "id": "f2a8358a",
   "metadata": {},
   "outputs": [
    {
     "ename": "TypeError",
     "evalue": "can only concatenate tuple (not \"str\") to tuple",
     "output_type": "error",
     "traceback": [
      "\u001b[1;31m---------------------------------------------------------------------------\u001b[0m",
      "\u001b[1;31mTypeError\u001b[0m                                 Traceback (most recent call last)",
      "Cell \u001b[1;32mIn[16], line 1\u001b[0m\n\u001b[1;32m----> 1\u001b[0m t\u001b[38;5;241m=\u001b[39m\u001b[43mt\u001b[49m\u001b[38;5;241;43m+\u001b[39;49m\u001b[38;5;124;43m'\u001b[39;49m\u001b[38;5;124;43mabcd\u001b[39;49m\u001b[38;5;124;43m'\u001b[39;49m \n",
      "\u001b[1;31mTypeError\u001b[0m: can only concatenate tuple (not \"str\") to tuple"
     ]
    }
   ],
   "source": [
    "t=t+'abcd' "
   ]
  },
  {
   "cell_type": "code",
   "execution_count": 2,
   "id": "a4af7598",
   "metadata": {},
   "outputs": [
    {
     "data": {
      "text/plain": [
       "tuple"
      ]
     },
     "execution_count": 2,
     "metadata": {},
     "output_type": "execute_result"
    }
   ],
   "source": [
    "rem=('abc',23)\n",
    "type(rem)"
   ]
  },
  {
   "cell_type": "code",
   "execution_count": 3,
   "id": "ac3bfe90",
   "metadata": {},
   "outputs": [],
   "source": [
    "rem=('abc')"
   ]
  },
  {
   "cell_type": "code",
   "execution_count": 4,
   "id": "6785d01e",
   "metadata": {},
   "outputs": [
    {
     "data": {
      "text/plain": [
       "str"
      ]
     },
     "execution_count": 4,
     "metadata": {},
     "output_type": "execute_result"
    }
   ],
   "source": [
    "type(rem)"
   ]
  },
  {
   "cell_type": "code",
   "execution_count": 5,
   "id": "824eb142",
   "metadata": {},
   "outputs": [
    {
     "ename": "NameError",
     "evalue": "name 't' is not defined",
     "output_type": "error",
     "traceback": [
      "\u001b[1;31m---------------------------------------------------------------------------\u001b[0m",
      "\u001b[1;31mNameError\u001b[0m                                 Traceback (most recent call last)",
      "Cell \u001b[1;32mIn[5], line 1\u001b[0m\n\u001b[1;32m----> 1\u001b[0m t\u001b[38;5;241m+\u001b[39m\u001b[38;5;241m=\u001b[39mrem\n",
      "\u001b[1;31mNameError\u001b[0m: name 't' is not defined"
     ]
    }
   ],
   "source": [
    "t+=rem"
   ]
  },
  {
   "cell_type": "code",
   "execution_count": 6,
   "id": "8d0d0351",
   "metadata": {},
   "outputs": [
    {
     "name": "stdout",
     "output_type": "stream",
     "text": [
      "<class 'str'>\n",
      "<class 'tuple'>\n"
     ]
    }
   ],
   "source": [
    "# bracketed single string is still a string only if there are multiple elements it becomes a tuple\n",
    "rem=('abc') # string\n",
    "print(type(rem))\n",
    "rem=('abc','def')\n",
    "print(type(rem))"
   ]
  },
  {
   "cell_type": "code",
   "execution_count": 7,
   "id": "1c1689e7",
   "metadata": {},
   "outputs": [
    {
     "data": {
      "text/plain": [
       "(10, 20, 30)"
      ]
     },
     "execution_count": 7,
     "metadata": {},
     "output_type": "execute_result"
    }
   ],
   "source": [
    "t=(10,20,30)\n",
    "t"
   ]
  },
  {
   "cell_type": "code",
   "execution_count": 8,
   "id": "5dd8a83e",
   "metadata": {},
   "outputs": [
    {
     "data": {
      "text/plain": [
       "(10, 20, 30)"
      ]
     },
     "execution_count": 8,
     "metadata": {},
     "output_type": "execute_result"
    }
   ],
   "source": [
    "t=10,20,30 #works even without brackets\n",
    "t"
   ]
  },
  {
   "cell_type": "code",
   "execution_count": 9,
   "id": "790c62e3",
   "metadata": {},
   "outputs": [
    {
     "data": {
      "text/plain": [
       "tuple"
      ]
     },
     "execution_count": 9,
     "metadata": {},
     "output_type": "execute_result"
    }
   ],
   "source": [
    "type(t)"
   ]
  },
  {
   "cell_type": "code",
   "execution_count": 10,
   "id": "dbfd9f44",
   "metadata": {},
   "outputs": [
    {
     "data": {
      "text/plain": [
       "int"
      ]
     },
     "execution_count": 10,
     "metadata": {},
     "output_type": "execute_result"
    }
   ],
   "source": [
    "t=(10)#in puython brackets are used for many things, for functions, for showing order of preference etc... (10) is the same as \n",
    "type(t) # the 10 in (5+5)*2=20. That is (10)*2=20"
   ]
  },
  {
   "cell_type": "code",
   "execution_count": 11,
   "id": "341948af",
   "metadata": {},
   "outputs": [
    {
     "data": {
      "text/plain": [
       "tuple"
      ]
     },
     "execution_count": 11,
     "metadata": {},
     "output_type": "execute_result"
    }
   ],
   "source": [
    "#to show a single element tuple use \n",
    "t=(10,)\n",
    "type (t)"
   ]
  },
  {
   "cell_type": "code",
   "execution_count": 12,
   "id": "04cb8537",
   "metadata": {},
   "outputs": [
    {
     "name": "stdout",
     "output_type": "stream",
     "text": [
      "([10, 20, 30], [40, 50, 60])\n",
      "([10, 20, 30, [45, 55]], [40, 50, 60])\n"
     ]
    }
   ],
   "source": [
    "t=([10,20,30],[40,50,60])\n",
    "print(t)\n",
    "t[0].append([45,55])\n",
    "print(t)"
   ]
  },
  {
   "attachments": {
    "image.png": {
     "image/png": "[encoded data removed]"
    }
   },
   "cell_type": "markdown",
   "id": "879e7749",
   "metadata": {},
   "source": [
    "## though tuple is immutable if it has mutable elements it can be changed\n",
    "![image.png](attachment:image.png)"
   ]
  },
  {
   "cell_type": "code",
   "execution_count": 14,
   "id": "6dfdfff2",
   "metadata": {},
   "outputs": [],
   "source": [
    "t=([10,20,30],[40,50,60])\n",
    "t[0].extend([33,34])"
   ]
  },
  {
   "cell_type": "code",
   "execution_count": 15,
   "id": "e8a67e29",
   "metadata": {},
   "outputs": [
    {
     "data": {
      "text/plain": [
       "([10, 20, 30, 33, 34], [40, 50, 60])"
      ]
     },
     "execution_count": 15,
     "metadata": {},
     "output_type": "execute_result"
    }
   ],
   "source": [
    "t"
   ]
  },
  {
   "cell_type": "code",
   "execution_count": 16,
   "id": "afd9616f",
   "metadata": {},
   "outputs": [],
   "source": [
    "t+=33,34"
   ]
  },
  {
   "cell_type": "code",
   "execution_count": 17,
   "id": "b412e45a",
   "metadata": {},
   "outputs": [
    {
     "data": {
      "text/plain": [
       "([10, 20, 30, 33, 34], [40, 50, 60], 33, 34)"
      ]
     },
     "execution_count": 17,
     "metadata": {},
     "output_type": "execute_result"
    }
   ],
   "source": [
    "t"
   ]
  },
  {
   "cell_type": "code",
   "execution_count": 18,
   "id": "0d595234",
   "metadata": {},
   "outputs": [
    {
     "ename": "TypeError",
     "evalue": "'tuple' object does not support item assignment",
     "output_type": "error",
     "traceback": [
      "\u001b[1;31m---------------------------------------------------------------------------\u001b[0m",
      "\u001b[1;31mTypeError\u001b[0m                                 Traceback (most recent call last)",
      "Cell \u001b[1;32mIn[18], line 1\u001b[0m\n\u001b[1;32m----> 1\u001b[0m \u001b[43mt\u001b[49m\u001b[43m[\u001b[49m\u001b[38;5;241;43m0\u001b[39;49m\u001b[43m]\u001b[49m\u001b[38;5;241m+\u001b[39m\u001b[38;5;241m=\u001b[39m\u001b[38;5;241m55\u001b[39m,\u001b[38;5;241m66\u001b[39m\n",
      "\u001b[1;31mTypeError\u001b[0m: 'tuple' object does not support item assignment"
     ]
    }
   ],
   "source": [
    "t[0]+=55,66"
   ]
  },
  {
   "cell_type": "code",
   "execution_count": 19,
   "id": "346d5fa4",
   "metadata": {},
   "outputs": [
    {
     "data": {
      "text/plain": [
       "([10, 20, 30, 33, 34, 55, 66], [40, 50, 60], 33, 34)"
      ]
     },
     "execution_count": 19,
     "metadata": {},
     "output_type": "execute_result"
    }
   ],
   "source": [
    "t #_iadd_"
   ]
  },
  {
   "cell_type": "code",
   "execution_count": 20,
   "id": "df31d8df",
   "metadata": {},
   "outputs": [
    {
     "name": "stdout",
     "output_type": "stream",
     "text": [
      "100\n",
      "200\n",
      "300\n"
     ]
    }
   ],
   "source": [
    "t=(100,200,300)\n",
    "x,y,z=t\n",
    "print(x)\n",
    "print(y)\n",
    "print(z)"
   ]
  },
  {
   "cell_type": "code",
   "execution_count": 21,
   "id": "3f7211be",
   "metadata": {},
   "outputs": [
    {
     "name": "stdout",
     "output_type": "stream",
     "text": [
      "title1\n",
      "0.99\n"
     ]
    }
   ],
   "source": [
    "book1=('title1',0.99)\n",
    "name,price=book1\n",
    "print(name)\n",
    "print(price)"
   ]
  },
  {
   "cell_type": "code",
   "execution_count": 22,
   "id": "81ae450b",
   "metadata": {},
   "outputs": [
    {
     "name": "stdout",
     "output_type": "stream",
     "text": [
      "200\n",
      "100\n"
     ]
    }
   ],
   "source": [
    "x,y=100,200\n",
    "y,x=x,y\n",
    "print(x)\n",
    "print(y)"
   ]
  },
  {
   "cell_type": "code",
   "execution_count": 23,
   "id": "55d3df40",
   "metadata": {},
   "outputs": [
    {
     "name": "stdout",
     "output_type": "stream",
     "text": [
      "0:a\n",
      "1:b\n",
      "2:c\n"
     ]
    }
   ],
   "source": [
    "s='abc'\n",
    "for (index, one_letter) in enumerate(s): #unpacking is mainly used for this\n",
    "    print(f'{index}:{one_letter}')"
   ]
  },
  {
   "cell_type": "code",
   "execution_count": 25,
   "id": "e7cc8034",
   "metadata": {},
   "outputs": [
    {
     "name": "stdout",
     "output_type": "stream",
     "text": [
      "(10, 20, 30)\n",
      "('a', 'b', 'c')\n",
      "['a', 'b', 'c']\n"
     ]
    }
   ],
   "source": [
    "mylist=[10,20,30]\n",
    "print(tuple(mylist))\n",
    "mystr='abc'\n",
    "print(tuple(mystr))\n",
    "print(list(mystr))"
   ]
  },
  {
   "cell_type": "code",
   "execution_count": 26,
   "id": "da694626",
   "metadata": {},
   "outputs": [
    {
     "data": {
      "text/plain": [
       "'abc**def**ghi'"
      ]
     },
     "execution_count": 26,
     "metadata": {},
     "output_type": "execute_result"
    }
   ],
   "source": [
    "t=('abc','def','ghi')\n",
    "'**'.join(t) #join works as long as the elements are strings"
   ]
  },
  {
   "cell_type": "code",
   "execution_count": 27,
   "id": "43e271e6",
   "metadata": {},
   "outputs": [
    {
     "data": {
      "text/plain": [
       "'abcdefghi'"
      ]
     },
     "execution_count": 27,
     "metadata": {},
     "output_type": "execute_result"
    }
   ],
   "source": [
    "''.join(t)"
   ]
  },
  {
   "cell_type": "code",
   "execution_count": 28,
   "id": "028020af",
   "metadata": {},
   "outputs": [
    {
     "data": {
      "text/plain": [
       "['abc', 'def', 'ghi']"
      ]
     },
     "execution_count": 28,
     "metadata": {},
     "output_type": "execute_result"
    }
   ],
   "source": [
    "s='abc::def::ghi'\n",
    "s.split('::') #the output will always be a list and not a tuple"
   ]
  },
  {
   "cell_type": "code",
   "execution_count": 29,
   "id": "f262c85f",
   "metadata": {},
   "outputs": [
    {
     "data": {
      "text/plain": [
       "('abc', 'def', 'ghi')"
      ]
     },
     "execution_count": 29,
     "metadata": {},
     "output_type": "execute_result"
    }
   ],
   "source": [
    "tuple(s.split('::'))#you can get it as a tuple by converting it into one"
   ]
  },
  {
   "cell_type": "code",
   "execution_count": 34,
   "id": "30a3a755",
   "metadata": {},
   "outputs": [
    {
     "data": {
      "text/plain": [
       "(6, 7, 9, 10, 18)"
      ]
     },
     "execution_count": 34,
     "metadata": {},
     "output_type": "execute_result"
    }
   ],
   "source": [
    "mylist=[10,60,20,40,30]\n",
    "sorted(mylist)\n",
    "mytuple=9,6,7,18,10\n",
    "sorted(mytuple)\n",
    "t=tuple(sorted(mytuple))\n",
    "t"
   ]
  },
  {
   "cell_type": "code",
   "execution_count": 35,
   "id": "1a78cee8",
   "metadata": {},
   "outputs": [
    {
     "data": {
      "text/plain": [
       "((1, 2), (2, 4), (2, 6), (4, 5))"
      ]
     },
     "execution_count": 35,
     "metadata": {},
     "output_type": "execute_result"
    }
   ],
   "source": [
    "mylist=[(4,5),(2,6),(2,4),(1,2)]\n",
    "t=tuple(sorted(mylist))\n",
    "t"
   ]
  },
  {
   "cell_type": "code",
   "execution_count": 39,
   "id": "a35f38a5",
   "metadata": {},
   "outputs": [
    {
     "data": {
      "text/plain": [
       "['vikraman', 'parthiban']"
      ]
     },
     "execution_count": 39,
     "metadata": {},
     "output_type": "execute_result"
    }
   ],
   "source": [
    "s='vikraman parthiban'\n",
    "s.split(' ')"
   ]
  },
  {
   "cell_type": "code",
   "execution_count": 5,
   "id": "901c2132",
   "metadata": {},
   "outputs": [
    {
     "name": "stdout",
     "output_type": "stream",
     "text": [
      "enter full name:Guna\n",
      "format of name must be firstname space lastname\n",
      "enter full name:Nalama Nayakar\n",
      "enter full name:Virumandi\n",
      "format of name must be firstname space lastname\n",
      "enter full name:\n",
      "[('Nayakar', 'Nalama')]\n"
     ]
    }
   ],
   "source": [
    "mylist=[]\n",
    "namelist=[]\n",
    "while True: #iterate till it is necessary\n",
    "    name=input('enter full name:') \n",
    "    if not name:# if name is an empty string terminate the loop\n",
    "        break\n",
    "    namelist=name.split(' ') #split the name based on space\n",
    "    if len(namelist)==2: # if the name has 2 words first and last name then continue\n",
    "        mylist.append(tuple(namelist[::-1])) # append the name to a list as a tuple and reverse the order of it\n",
    "    else:\n",
    "        print('format of name must be firstname space lastname')# print the format\n",
    "print(mylist)\n",
    "        \n",
    "    "
   ]
  },
  {
   "cell_type": "code",
   "execution_count": null,
   "id": "edc5dbe7",
   "metadata": {},
   "outputs": [],
   "source": []
  },
  {
   "cell_type": "code",
   "execution_count": null,
   "id": "edc28655",
   "metadata": {},
   "outputs": [],
   "source": []
  }
 ],
 "metadata": {
  "kernelspec": {
   "display_name": "Python 3 (ipykernel)",
   "language": "python",
   "name": "python3"
  },
  "language_info": {
   "codemirror_mode": {
    "name": "ipython",
    "version": 3
   },
   "file_extension": ".py",
   "mimetype": "text/x-python",
   "name": "python",
   "nbconvert_exporter": "python",
   "pygments_lexer": "ipython3",
   "version": "3.8.8"
  }
 },
 "nbformat": 4,
 "nbformat_minor": 5
}

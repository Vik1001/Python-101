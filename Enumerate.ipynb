{
 "cells": [
  {
   "cell_type": "code",
   "execution_count": null,
   "id": "5f1148f2",
   "metadata": {},
   "outputs": [],
   "source": [
    "#enumerate"
   ]
  },
  {
   "cell_type": "code",
   "execution_count": 1,
   "id": "afa3bfbe",
   "metadata": {},
   "outputs": [
    {
     "name": "stdout",
     "output_type": "stream",
     "text": [
      "a\n",
      "b\n",
      "c\n",
      "d\n"
     ]
    }
   ],
   "source": [
    "s='abcd'\n",
    "for one_letter in s:\n",
    "    print(one_letter)# in C, C++ loops require indexes to iterate over an object. But in Python, the objects themselves are \n",
    "                     # iterable"
   ]
  },
  {
   "cell_type": "code",
   "execution_count": 2,
   "id": "6c410000",
   "metadata": {},
   "outputs": [
    {
     "name": "stdout",
     "output_type": "stream",
     "text": [
      "0 , a\n",
      "1 , b\n",
      "2 , c\n",
      "3 , d\n"
     ]
    }
   ],
   "source": [
    "# Say you want to print the index of an elements in an iterable object along with the elements. There are two ways to do this.\n",
    "\n",
    "#Type 1\n",
    "s='abcd'\n",
    "index=0\n",
    "for one_letter in s:\n",
    "    print(f\"{index} , {one_letter}\")\n",
    "    index+=1\n"
   ]
  },
  {
   "cell_type": "code",
   "execution_count": 3,
   "id": "e68b2e55",
   "metadata": {},
   "outputs": [
    {
     "data": {
      "text/plain": [
       "enumerate"
      ]
     },
     "execution_count": 3,
     "metadata": {},
     "output_type": "execute_result"
    }
   ],
   "source": [
    "#Type 2\n",
    "\n",
    "type(enumerate(s))"
   ]
  },
  {
   "cell_type": "code",
   "execution_count": 4,
   "id": "9f447d6a",
   "metadata": {},
   "outputs": [
    {
     "name": "stdout",
     "output_type": "stream",
     "text": [
      "Help on class enumerate in module builtins:\n",
      "\n",
      "class enumerate(object)\n",
      " |  enumerate(iterable, start=0)\n",
      " |  \n",
      " |  Return an enumerate object.\n",
      " |  \n",
      " |    iterable\n",
      " |      an object supporting iteration\n",
      " |  \n",
      " |  The enumerate object yields pairs containing a count (from start, which\n",
      " |  defaults to zero) and a value yielded by the iterable argument.\n",
      " |  \n",
      " |  enumerate is useful for obtaining an indexed list:\n",
      " |      (0, seq[0]), (1, seq[1]), (2, seq[2]), ...\n",
      " |  \n",
      " |  Methods defined here:\n",
      " |  \n",
      " |  __getattribute__(self, name, /)\n",
      " |      Return getattr(self, name).\n",
      " |  \n",
      " |  __iter__(self, /)\n",
      " |      Implement iter(self).\n",
      " |  \n",
      " |  __next__(self, /)\n",
      " |      Implement next(self).\n",
      " |  \n",
      " |  __reduce__(...)\n",
      " |      Return state information for pickling.\n",
      " |  \n",
      " |  ----------------------------------------------------------------------\n",
      " |  Static methods defined here:\n",
      " |  \n",
      " |  __new__(*args, **kwargs) from builtins.type\n",
      " |      Create and return a new object.  See help(type) for accurate signature.\n",
      "\n"
     ]
    }
   ],
   "source": [
    "help(enumerate)"
   ]
  },
  {
   "cell_type": "code",
   "execution_count": 5,
   "id": "392a0537",
   "metadata": {},
   "outputs": [
    {
     "name": "stdout",
     "output_type": "stream",
     "text": [
      "1\n",
      "2\n"
     ]
    }
   ],
   "source": [
    "#before learning about enumerate, \"unpacking\"  a concept in tuple must be learnt. So if a tuple is assigned to a variable. \n",
    "#using that variable the elements in the tuple can be assigned to different variables. For example:\n",
    "x=(1,2)\n",
    "a,b=x\n",
    "print(a)\n",
    "print(b)"
   ]
  },
  {
   "cell_type": "code",
   "execution_count": 6,
   "id": "26c91ae5",
   "metadata": {},
   "outputs": [
    {
     "name": "stdout",
     "output_type": "stream",
     "text": [
      "1:2\n",
      "3:4\n",
      "5:6\n"
     ]
    }
   ],
   "source": [
    "x=[(1,2),(3,4),(5,6)]\n",
    "for a,b in x:\n",
    "    print(f'{a}:{b}')\n",
    "#so we have unpacked the individual elements in x to a and b respectively\n",
    "    "
   ]
  },
  {
   "cell_type": "code",
   "execution_count": 7,
   "id": "1d29390f",
   "metadata": {},
   "outputs": [
    {
     "name": "stdout",
     "output_type": "stream",
     "text": [
      "<enumerate object at 0x000001DE18A63DC0>\n"
     ]
    }
   ],
   "source": [
    "s='abcd'\n",
    "print(enumerate(s))\n",
    "#enumerate basically creates a list of tuple containing two elements. First element is the index of the elements in the iterable\n",
    "# object. Second is the element itself"
   ]
  },
  {
   "cell_type": "code",
   "execution_count": 9,
   "id": "f05a64ef",
   "metadata": {},
   "outputs": [
    {
     "name": "stdout",
     "output_type": "stream",
     "text": [
      "0:a\n",
      "1:b\n",
      "2:c\n",
      "3:d\n"
     ]
    }
   ],
   "source": [
    "s=\"abcd\"\n",
    "for x,y in enumerate(s):\n",
    "    print(f'{x}:{y}')"
   ]
  },
  {
   "cell_type": "code",
   "execution_count": 10,
   "id": "6b8c86fc",
   "metadata": {},
   "outputs": [
    {
     "name": "stdout",
     "output_type": "stream",
     "text": [
      "100:a\n",
      "101:b\n",
      "102:c\n",
      "103:d\n"
     ]
    }
   ],
   "source": [
    "# you can also change the initial value of index\n",
    "for x,y in enumerate(s,100):\n",
    "    print(f\"{x}:{y}\")"
   ]
  },
  {
   "cell_type": "code",
   "execution_count": null,
   "id": "c68e851b",
   "metadata": {},
   "outputs": [],
   "source": []
  }
 ],
 "metadata": {
  "kernelspec": {
   "display_name": "Python 3 (ipykernel)",
   "language": "python",
   "name": "python3"
  },
  "language_info": {
   "codemirror_mode": {
    "name": "ipython",
    "version": 3
   },
   "file_extension": ".py",
   "mimetype": "text/x-python",
   "name": "python",
   "nbconvert_exporter": "python",
   "pygments_lexer": "ipython3",
   "version": "3.8.8"
  }
 },
 "nbformat": 4,
 "nbformat_minor": 5
}

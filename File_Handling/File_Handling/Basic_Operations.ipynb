{
 "cells": [
  {
   "cell_type": "code",
   "execution_count": 10,
   "id": "481e9310",
   "metadata": {},
   "outputs": [
    {
     "data": {
      "text/plain": [
       "<_io.TextIOWrapper name='linux-etc-passwd.txt' mode='r' encoding='cp1252'>"
      ]
     },
     "execution_count": 10,
     "metadata": {},
     "output_type": "execute_result"
    }
   ],
   "source": [
    "# If I use open on a filename:\n",
    "\n",
    "# (1) I will get a file-like object back\n",
    "# (2) It'll be open for reading (not writing) default\n",
    "# (3) We're ignoring otherr options\n",
    "\n",
    "open('linux-etc-passwd.txt') # opens a file"
   ]
  },
  {
   "cell_type": "code",
   "execution_count": 15,
   "id": "da101c08",
   "metadata": {},
   "outputs": [],
   "source": [
    "f = open('linux-etc-passwd.txt') # f is the file object and f has the above \n",
    "                                 # the above properties"
   ]
  },
  {
   "cell_type": "code",
   "execution_count": 12,
   "id": "2d0ddf23",
   "metadata": {},
   "outputs": [
    {
     "data": {
      "text/plain": [
       "_io.TextIOWrapper"
      ]
     },
     "execution_count": 12,
     "metadata": {},
     "output_type": "execute_result"
    }
   ],
   "source": [
    "type(f)"
   ]
  },
  {
   "cell_type": "code",
   "execution_count": 13,
   "id": "8b58782e",
   "metadata": {},
   "outputs": [
    {
     "data": {
      "text/plain": [
       "'linux-etc-passwd.txt'"
      ]
     },
     "execution_count": 13,
     "metadata": {},
     "output_type": "execute_result"
    }
   ],
   "source": [
    "f.name"
   ]
  },
  {
   "cell_type": "markdown",
   "id": "77aee58e",
   "metadata": {},
   "source": [
    "f = open('c:\\abcd\\efgh\\myfile.txt') #this must work in windows but it won't\n",
    "                                    #because of the use of backslashes which\n",
    "                                    #makes the adjacent characters specialchars"
   ]
  },
  {
   "cell_type": "markdown",
   "id": "d8f0d644",
   "metadata": {},
   "source": [
    "f=open('c:\\\\abcd\\\\efgh\\\\myfile.txt') #double slashes work"
   ]
  },
  {
   "cell_type": "markdown",
   "id": "d1609348",
   "metadata": {},
   "source": [
    "f = open(r'c:\\abcd\\efgh\\myfile.txt')# raw strings are a better option"
   ]
  },
  {
   "cell_type": "code",
   "execution_count": 18,
   "id": "3f15eab3",
   "metadata": {},
   "outputs": [],
   "source": [
    "#absolute paths -- starting from the root of the filesystem\n",
    "#relative paths -- start from the current program's location"
   ]
  },
  {
   "cell_type": "code",
   "execution_count": 19,
   "id": "ac9ecdfb",
   "metadata": {},
   "outputs": [
    {
     "data": {
      "text/plain": [
       "'C:\\\\Users\\\\Vikram\\\\Reuven Lerner Python\\\\File_Handling'"
      ]
     },
     "execution_count": 19,
     "metadata": {},
     "output_type": "execute_result"
    }
   ],
   "source": [
    "%pwd # to find the current absolute path of the file I am working on jupyter nb"
   ]
  },
  {
   "cell_type": "code",
   "execution_count": 24,
   "id": "c75e8c47",
   "metadata": {},
   "outputs": [
    {
     "name": "stdout",
     "output_type": "stream",
     "text": [
      "C:\\Users\\Vikram\\Reuven Lerner Python\\File_Handling\n"
     ]
    }
   ],
   "source": [
    "current_directory = %pwd\n",
    "formatted_directory = current_directory.replace(\"\\\\\", \"\\\\\")\n",
    "print(formatted_directory)  #using replace() to print the path with \\\n",
    "# the second argument in replace function,\"\\\\\", what it actually means is that \n",
    "# the first slash indicates that the second slash isn't a special character\n",
    "# In Python, the backslash (\\) is used as an escape character. When you want to \n",
    "# include a literal backslash in a string, you need to use a \n",
    "# double backslash (\\\\). "
   ]
  },
  {
   "cell_type": "markdown",
   "id": "4d947065",
   "metadata": {},
   "source": [
    "# why should a python developer worry about os?\n",
    "\n",
    "## isn't python a crossplatform software?\n",
    "\n",
    "## well the answer is python maybe a cross platform software but it may not be running in a cross platform environment."
   ]
  },
  {
   "cell_type": "code",
   "execution_count": 2,
   "id": "36c9d466",
   "metadata": {},
   "outputs": [
    {
     "name": "stdout",
     "output_type": "stream",
     "text": [
      " Volume in drive C is OS\n",
      " Volume Serial Number is 802B-9018\n",
      "\n",
      " Directory of C:\\Users\\Vikram\\Reuven Lerner Python\\File_Handling\n",
      "\n",
      "\n",
      " Directory of C:\\Users\\Vikram\\Reuven Lerner Python\\File_Handling\n",
      "\n",
      "\n",
      " Directory of C:\\Users\\Vikram\\Reuven Lerner Python\\File_Handling\n",
      "\n",
      "\n",
      " Directory of C:\\Users\\Vikram\\Reuven Lerner Python\\File_Handling\n",
      "\n",
      "\n",
      " Directory of C:\\Users\\Vikram\\Reuven Lerner Python\\File_Handling\n",
      "\n",
      "\n",
      " Directory of C:\\Users\\Vikram\\Reuven Lerner Python\\File_Handling\n",
      "\n",
      "\n",
      " Directory of C:\\Users\\Vikram\\Reuven Lerner Python\\File_Handling\n",
      "\n"
     ]
    },
    {
     "name": "stderr",
     "output_type": "stream",
     "text": [
      "File Not Found\n"
     ]
    }
   ],
   "source": [
    "%ls #lists the content of a file directory"
   ]
  },
  {
   "cell_type": "code",
   "execution_count": 11,
   "id": "a46c6129",
   "metadata": {},
   "outputs": [],
   "source": [
    "f=open('linux-etc-passwd.txt')"
   ]
  },
  {
   "cell_type": "code",
   "execution_count": 14,
   "id": "c87a56cc",
   "metadata": {},
   "outputs": [],
   "source": [
    "import os"
   ]
  },
  {
   "cell_type": "code",
   "execution_count": 21,
   "id": "1b229e62",
   "metadata": {},
   "outputs": [
    {
     "name": "stdout",
     "output_type": "stream",
     "text": [
      "Absolute path: C:\\Users\\Vikram\\Reuven Lerner Python\\File_Handling\\linux-etc-passwd.txt\n"
     ]
    }
   ],
   "source": [
    "\n",
    "\n",
    "# Specify the relative path to the file\n",
    "relative_path = 'linux-etc-passwd.txt'\n",
    "\n",
    "# Get the absolute path by joining the current working directory with the relative path\n",
    "absolute_path = os.path.abspath(relative_path)\n",
    "\n",
    "# Open the file\n",
    "with open(absolute_path) as f:\n",
    "    # Now you can use the absolute path as needed\n",
    "    print(\"Absolute path:\", absolute_path)\n",
    "    # Your code here\n",
    "\n"
   ]
  },
  {
   "cell_type": "code",
   "execution_count": 26,
   "id": "6b034a5c",
   "metadata": {},
   "outputs": [],
   "source": [
    "f=open(r'E:\\seminar_project.txt')"
   ]
  },
  {
   "cell_type": "markdown",
   "id": "18fb37f5",
   "metadata": {},
   "source": [
    "# you cann't use open() to open a directory \n",
    "# you can just open a file with it"
   ]
  },
  {
   "cell_type": "code",
   "execution_count": 27,
   "id": "b1403c0b",
   "metadata": {},
   "outputs": [
    {
     "ename": "PermissionError",
     "evalue": "[Errno 13] Permission denied: 'E:'",
     "output_type": "error",
     "traceback": [
      "\u001b[1;31m---------------------------------------------------------------------------\u001b[0m",
      "\u001b[1;31mPermissionError\u001b[0m                           Traceback (most recent call last)",
      "Cell \u001b[1;32mIn[27], line 1\u001b[0m\n\u001b[1;32m----> 1\u001b[0m \u001b[38;5;28;43mopen\u001b[39;49m\u001b[43m(\u001b[49m\u001b[38;5;124;43m'\u001b[39;49m\u001b[38;5;124;43mE:\u001b[39;49m\u001b[38;5;124;43m'\u001b[39;49m\u001b[43m)\u001b[49m\n",
      "File \u001b[1;32m~\\anaconda3\\lib\\site-packages\\IPython\\core\\interactiveshell.py:282\u001b[0m, in \u001b[0;36m_modified_open\u001b[1;34m(file, *args, **kwargs)\u001b[0m\n\u001b[0;32m    275\u001b[0m \u001b[38;5;28;01mif\u001b[39;00m file \u001b[38;5;129;01min\u001b[39;00m {\u001b[38;5;241m0\u001b[39m, \u001b[38;5;241m1\u001b[39m, \u001b[38;5;241m2\u001b[39m}:\n\u001b[0;32m    276\u001b[0m     \u001b[38;5;28;01mraise\u001b[39;00m \u001b[38;5;167;01mValueError\u001b[39;00m(\n\u001b[0;32m    277\u001b[0m         \u001b[38;5;124mf\u001b[39m\u001b[38;5;124m\"\u001b[39m\u001b[38;5;124mIPython won\u001b[39m\u001b[38;5;124m'\u001b[39m\u001b[38;5;124mt let you open fd=\u001b[39m\u001b[38;5;132;01m{\u001b[39;00mfile\u001b[38;5;132;01m}\u001b[39;00m\u001b[38;5;124m by default \u001b[39m\u001b[38;5;124m\"\u001b[39m\n\u001b[0;32m    278\u001b[0m         \u001b[38;5;124m\"\u001b[39m\u001b[38;5;124mas it is likely to crash IPython. If you know what you are doing, \u001b[39m\u001b[38;5;124m\"\u001b[39m\n\u001b[0;32m    279\u001b[0m         \u001b[38;5;124m\"\u001b[39m\u001b[38;5;124myou can use builtins\u001b[39m\u001b[38;5;124m'\u001b[39m\u001b[38;5;124m open.\u001b[39m\u001b[38;5;124m\"\u001b[39m\n\u001b[0;32m    280\u001b[0m     )\n\u001b[1;32m--> 282\u001b[0m \u001b[38;5;28;01mreturn\u001b[39;00m \u001b[43mio_open\u001b[49m\u001b[43m(\u001b[49m\u001b[43mfile\u001b[49m\u001b[43m,\u001b[49m\u001b[43m \u001b[49m\u001b[38;5;241;43m*\u001b[39;49m\u001b[43margs\u001b[49m\u001b[43m,\u001b[49m\u001b[43m \u001b[49m\u001b[38;5;241;43m*\u001b[39;49m\u001b[38;5;241;43m*\u001b[39;49m\u001b[43mkwargs\u001b[49m\u001b[43m)\u001b[49m\n",
      "\u001b[1;31mPermissionError\u001b[0m: [Errno 13] Permission denied: 'E:'"
     ]
    }
   ],
   "source": [
    "open('E:')"
   ]
  },
  {
   "cell_type": "code",
   "execution_count": 28,
   "id": "f713024e",
   "metadata": {},
   "outputs": [],
   "source": [
    "f.close()"
   ]
  },
  {
   "cell_type": "code",
   "execution_count": 29,
   "id": "197adca3",
   "metadata": {},
   "outputs": [],
   "source": [
    "f=open(\"E:\\seminar project\\seminar_project.txt\")"
   ]
  },
  {
   "cell_type": "code",
   "execution_count": 31,
   "id": "b4ed2787",
   "metadata": {},
   "outputs": [
    {
     "ename": "PermissionError",
     "evalue": "[Errno 13] Permission denied: 'E:\\\\seminar project'",
     "output_type": "error",
     "traceback": [
      "\u001b[1;31m---------------------------------------------------------------------------\u001b[0m",
      "\u001b[1;31mPermissionError\u001b[0m                           Traceback (most recent call last)",
      "Cell \u001b[1;32mIn[31], line 1\u001b[0m\n\u001b[1;32m----> 1\u001b[0m \u001b[38;5;28;43mopen\u001b[39;49m\u001b[43m(\u001b[49m\u001b[38;5;124;43m\"\u001b[39;49m\u001b[38;5;124;43mE:\u001b[39;49m\u001b[38;5;124;43m\\\u001b[39;49m\u001b[38;5;124;43mseminar\u001b[39;49m\u001b[38;5;130;43;01m\\x20\u001b[39;49;00m\u001b[38;5;124;43mproject\u001b[39;49m\u001b[38;5;124;43m\"\u001b[39;49m\u001b[43m)\u001b[49m\n",
      "File \u001b[1;32m~\\anaconda3\\lib\\site-packages\\IPython\\core\\interactiveshell.py:282\u001b[0m, in \u001b[0;36m_modified_open\u001b[1;34m(file, *args, **kwargs)\u001b[0m\n\u001b[0;32m    275\u001b[0m \u001b[38;5;28;01mif\u001b[39;00m file \u001b[38;5;129;01min\u001b[39;00m {\u001b[38;5;241m0\u001b[39m, \u001b[38;5;241m1\u001b[39m, \u001b[38;5;241m2\u001b[39m}:\n\u001b[0;32m    276\u001b[0m     \u001b[38;5;28;01mraise\u001b[39;00m \u001b[38;5;167;01mValueError\u001b[39;00m(\n\u001b[0;32m    277\u001b[0m         \u001b[38;5;124mf\u001b[39m\u001b[38;5;124m\"\u001b[39m\u001b[38;5;124mIPython won\u001b[39m\u001b[38;5;124m'\u001b[39m\u001b[38;5;124mt let you open fd=\u001b[39m\u001b[38;5;132;01m{\u001b[39;00mfile\u001b[38;5;132;01m}\u001b[39;00m\u001b[38;5;124m by default \u001b[39m\u001b[38;5;124m\"\u001b[39m\n\u001b[0;32m    278\u001b[0m         \u001b[38;5;124m\"\u001b[39m\u001b[38;5;124mas it is likely to crash IPython. If you know what you are doing, \u001b[39m\u001b[38;5;124m\"\u001b[39m\n\u001b[0;32m    279\u001b[0m         \u001b[38;5;124m\"\u001b[39m\u001b[38;5;124myou can use builtins\u001b[39m\u001b[38;5;124m'\u001b[39m\u001b[38;5;124m open.\u001b[39m\u001b[38;5;124m\"\u001b[39m\n\u001b[0;32m    280\u001b[0m     )\n\u001b[1;32m--> 282\u001b[0m \u001b[38;5;28;01mreturn\u001b[39;00m \u001b[43mio_open\u001b[49m\u001b[43m(\u001b[49m\u001b[43mfile\u001b[49m\u001b[43m,\u001b[49m\u001b[43m \u001b[49m\u001b[38;5;241;43m*\u001b[39;49m\u001b[43margs\u001b[49m\u001b[43m,\u001b[49m\u001b[43m \u001b[49m\u001b[38;5;241;43m*\u001b[39;49m\u001b[38;5;241;43m*\u001b[39;49m\u001b[43mkwargs\u001b[49m\u001b[43m)\u001b[49m\n",
      "\u001b[1;31mPermissionError\u001b[0m: [Errno 13] Permission denied: 'E:\\\\seminar project'"
     ]
    }
   ],
   "source": [
    "open(\"E:\\seminar\\x20project\")"
   ]
  },
  {
   "cell_type": "code",
   "execution_count": null,
   "id": "627590c2",
   "metadata": {},
   "outputs": [],
   "source": []
  }
 ],
 "metadata": {
  "kernelspec": {
   "display_name": "Python 3 (ipykernel)",
   "language": "python",
   "name": "python3"
  },
  "language_info": {
   "codemirror_mode": {
    "name": "ipython",
    "version": 3
   },
   "file_extension": ".py",
   "mimetype": "text/x-python",
   "name": "python",
   "nbconvert_exporter": "python",
   "pygments_lexer": "ipython3",
   "version": "3.8.8"
  }
 },
 "nbformat": 4,
 "nbformat_minor": 5
}

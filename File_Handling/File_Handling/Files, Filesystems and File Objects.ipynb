{
 "cells": [
  {
   "cell_type": "markdown",
   "id": "07b9f901",
   "metadata": {},
   "source": [
    "## File :\n",
    "### a way of storing data, when we restart our computer, etc..., that data is still available to us. We will take a temporary data and put into permanent memory. File is a bunch of bits in a row.\n",
    "\n",
    "## Disk: [FILE SYSTEM]\n",
    "### a place where files are kept. Also known as File Systems. \n",
    "\n",
    "### Before you had to write code to know where foles are stored everytime. Then OS came and helped. It helped to write commands to different memory storage systems like cloud, SSD, etc...\n",
    "\n",
    "### Typically we aren't directly talking with the filesystem but usually with the OS. The OS gives a little piece of an agent to work with the filesystems. This little piece of agent is called file handle. In Python we don't use the term file handle, we use the term file object (Python 2) or file like object file object\n",
    "\n",
    "### In summary, a file object is a programming language construct that provides an interface for your code to interact with a file on the file system, but it doesn't create a separate copy of the entire file in memory"
   ]
  },
  {
   "cell_type": "code",
   "execution_count": null,
   "id": "5406d6d1",
   "metadata": {},
   "outputs": [],
   "source": []
  }
 ],
 "metadata": {
  "kernelspec": {
   "display_name": "Python 3 (ipykernel)",
   "language": "python",
   "name": "python3"
  },
  "language_info": {
   "codemirror_mode": {
    "name": "ipython",
    "version": 3
   },
   "file_extension": ".py",
   "mimetype": "text/x-python",
   "name": "python",
   "nbconvert_exporter": "python",
   "pygments_lexer": "ipython3",
   "version": "3.8.18"
  }
 },
 "nbformat": 4,
 "nbformat_minor": 5
}
